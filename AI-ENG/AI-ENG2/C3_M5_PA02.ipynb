{
 "cells": [
  {
   "cell_type": "markdown",
   "id": "3bccbe8e",
   "metadata": {
    "deletable": false,
    "editable": false,
    "nbgrader": {
     "cell_type": "markdown",
     "checksum": "a8dbfd45efe5ca37ebd25c163a210ec2",
     "grade": false,
     "grade_id": "cell-4aebe3e0cf28e4ab",
     "locked": true,
     "schema_version": 3,
     "solution": false,
     "task": false
    }
   },
   "source": [
    "# Automation and scripting with Python\n",
    "In this lab, you will deepen your understanding of Python automation and scripting by integrating with an external API, automating data analysis and visualization tasks, and utilizing version control (Git) for efficient project management."
   ]
  },
  {
   "cell_type": "markdown",
   "id": "6170975a",
   "metadata": {
    "deletable": false,
    "editable": false,
    "nbgrader": {
     "cell_type": "markdown",
     "checksum": "e2c0cf0141b293c829f98bc443842ca5",
     "grade": false,
     "grade_id": "cell-ad57e5c35bf64539",
     "locked": true,
     "schema_version": 3,
     "solution": false,
     "task": false
    }
   },
   "source": [
    "### Tips for completing this lab\n",
    "As you navigate this lab, keep the following tips in mind:\n",
    "- `### YOUR CODE HERE ###` indicates where you should write code. Be sure to replace this with your own code before running the code cell.\n",
    "- Feel free to open the hints for additional guidance as you work on each task.\n",
    "- You can save your work manually by clicking the save button (floppy disk icon) on the menu bar at the top of the notebook.\n",
    "- You can also download your work locally by clicking File and then 'Download as' on the menu bar at the top of the notebook, and then specifying your preferred file format (e.g. Notebook (.ipynb)).\n"
   ]
  },
  {
   "cell_type": "markdown",
   "id": "06cb618c",
   "metadata": {
    "deletable": false,
    "editable": false,
    "nbgrader": {
     "cell_type": "markdown",
     "checksum": "0aecd4d52711a4939f33b557fff83741",
     "grade": false,
     "grade_id": "cell-ed5922e39d56a369",
     "locked": true,
     "schema_version": 3,
     "solution": false,
     "task": false
    }
   },
   "source": [
    "## Scenario\n",
    "You are a Python developer tasked with gathering sports betting and baseball statistics. You will load a CSV file to a DataFrame, perform some analysis, and generate visualizations, as you have done in previous material. After the data is processed, you will set up SendGrid to send an email to your supervisor (using the sample code you've obtained from the SendGrid documentation). This is designed to send an alert once your analysis is done. You will add your API key and configure the message. \n",
    "\n",
    "You will add scheduling to a program so that the analysis is run every day and the automated email will be sent after completion of the analysis, and you will use file operations to save your DataFrame, ensuring you do not overwrite the previous set of data. As you do this, you will add logging messages where appropriate.\n",
    "\n",
    "As you progress through this lab, you will use Git to manage your project and commit regularly."
   ]
  },
  {
   "cell_type": "markdown",
   "id": "f913f391",
   "metadata": {
    "deletable": false,
    "editable": false,
    "nbgrader": {
     "cell_type": "markdown",
     "checksum": "5eb48f2e81431785e1462845c94be072",
     "grade": false,
     "grade_id": "cell-53b3edf6c53e7bc4",
     "locked": true,
     "schema_version": 3,
     "solution": false,
     "task": false
    }
   },
   "source": [
    "## High-Level Tasks\n",
    "1. **Set up Version Control** using Git.\n",
    "2. **Data Handling and Preprocessing** of the sports dataset.\n",
    "3. **Visualization Building and Evaluation** with Python libraries.\n",
    "4. **API Integration and Error Handling** to set up alert emails and handle cases where the API integration fails.\n",
    "5. **Scheduling** to automate sending an email on a schedule.\n",
    "6. **File Operations  Logging** to save and rename files, and logging info-level messages."
   ]
  },
  {
   "cell_type": "markdown",
   "id": "deb15561",
   "metadata": {
    "deletable": false,
    "editable": false,
    "nbgrader": {
     "cell_type": "markdown",
     "checksum": "c17e91112f0db1959f3ae5dbc16ca08e",
     "grade": false,
     "grade_id": "cell-33b0ee0f1dbacc71",
     "locked": true,
     "schema_version": 3,
     "solution": false,
     "task": false
    }
   },
   "source": [
    "### 1. Set Up Version Control\n",
    "#### Step 1.1: Initialize Git\n",
    "Initialize a local Git repository for this project where you can store versions of this notebook. This will allow you to track your progress, make commits, and revert changes when needed. \n",
    "\n",
    "You can download your work locally by clicking File and then 'Download as' on the menu bar at the top of the notebook, and then specifying your preferred file format (e.g. Notebook (.ipynb)).\n",
    "\n",
    "If you have not already done so, you may also need to set up your Git environment by running:\n",
    "\n",
    "`git config --global user.email \"you@example.com\"`\n",
    "\n",
    "`git config --global user.name \"Your Name\"`"
   ]
  },
  {
   "cell_type": "code",
   "execution_count": null,
   "id": "647f3402",
   "metadata": {},
   "outputs": [],
   "source": [
    "%%bash\n",
    "# Initialize a Git repository\n",
    "git init\n",
    "\n",
    "# Add all the files to staging\n",
    "git add .\n",
    "\n",
    "# Commit the changes\n",
    "git commit -m \"Initial commit for the automation and scripting project\""
   ]
  },
  {
   "cell_type": "markdown",
   "id": "76f810b2",
   "metadata": {
    "deletable": false,
    "editable": false,
    "nbgrader": {
     "cell_type": "markdown",
     "checksum": "08dfd826f521258c104044c36331b010",
     "grade": false,
     "grade_id": "cell-214d21cbe49c2ec9",
     "locked": true,
     "schema_version": 3,
     "solution": false,
     "task": false
    }
   },
   "source": [
    "#### Step 1.2: Make Regular Commits\n",
    "Ensure that you commit your changes regularly using descriptive commit messages."
   ]
  },
  {
   "cell_type": "code",
   "execution_count": null,
   "id": "1aa7dda3",
   "metadata": {},
   "outputs": [],
   "source": [
    "%%bash\n",
    "# Example of a commit after completing a section\n",
    "git commit -am \"Added data handling and preprocessing steps\""
   ]
  },
  {
   "cell_type": "markdown",
   "id": "f511b69f",
   "metadata": {
    "deletable": false,
    "editable": false,
    "nbgrader": {
     "cell_type": "markdown",
     "checksum": "92f7c2041ad205a70365b87faf208ebb",
     "grade": false,
     "grade_id": "cell-944a167366032c83",
     "locked": true,
     "schema_version": 3,
     "solution": false,
     "task": false
    }
   },
   "source": [
    "### 2. Data Handling and Preprocessing\n",
    "#### Step 2.1: Load the Dataset\n",
    "Load the provided sports dataset **sports_data_missing.csv** into a pandas DataFrame and inspect it to understand the structure, missing values, and any inconsistencies."
   ]
  },
  {
   "cell_type": "code",
   "execution_count": null,
   "id": "736afeae",
   "metadata": {},
   "outputs": [],
   "source": [
    "import pandas as pd\n",
    "\n",
    "# Load the dataset\n",
    "df = # YOUR CODE HERE - load sports_data_missing CSV file into the DataFrame\n",
    "\n",
    "# Display the first few rows\n",
    "print(df.head())\n",
    "\n",
    "# Display info about DataFrame\n",
    "df.info()"
   ]
  },
  {
   "cell_type": "markdown",
   "id": "9eb18db0",
   "metadata": {
    "deletable": false,
    "editable": false,
    "nbgrader": {
     "cell_type": "markdown",
     "checksum": "3252feb860af01664743c01e150f35b1",
     "grade": false,
     "grade_id": "cell-27e6a9ab022a3acf",
     "locked": true,
     "schema_version": 3,
     "solution": false,
     "task": false
    }
   },
   "source": [
    "#### Step 2.2: Clean and Preprocess the Data\n",
    "Check for missing or invalid values, and clean the dataset as needed (e.g., fill missing values, handle data inconsistencies). In this case, drop any columns with invalid data."
   ]
  },
  {
   "cell_type": "code",
   "execution_count": null,
   "id": "36d16dc3",
   "metadata": {},
   "outputs": [],
   "source": [
    "# Drop rows with invalid data\n",
    "# YOUR CODE HERE\n",
    "\n",
    "# Inspect the cleaned data\n",
    "df.info()"
   ]
  },
  {
   "cell_type": "markdown",
   "id": "28ebf859",
   "metadata": {
    "deletable": false,
    "editable": false,
    "nbgrader": {
     "cell_type": "markdown",
     "checksum": "25b04f137b2789164c7be6768bd6e334",
     "grade": false,
     "grade_id": "cell-27f21e5cbef560ac",
     "locked": true,
     "schema_version": 3,
     "solution": false,
     "task": false
    }
   },
   "source": [
    "### 3. Visualization Building and Evaluation\n",
    "#### Step 3.1: Create Functions for Visualizations\n",
    "Create a function to generate different visualizations based on the dataset. For example, scatter plots showing player statistics. Please note these abbreviations:\n",
    "- HR = Home Runs\n",
    "- BB = Walks (Base on Balls)\n",
    "- SO = Strikeouts\n",
    "- AB = At Bats\n",
    "\n",
    "Some common examples of baseball metrics are a comparison of how many strikeouts (SO) vs. walks (BB), and number of at bats (AB) vs. home runs (HR). Create two scatter plots, one showing the Walk vs. Strikeout Ratio, and the second showing Home Runs vs. At Bats ratio.\n",
    "\n",
    "Create a function called create_scatter_plot that accepts the dataframe, the x and y column names, and the chart title, and generates and displays a scatter plot."
   ]
  },
  {
   "cell_type": "code",
   "execution_count": null,
   "id": "203df53e",
   "metadata": {},
   "outputs": [],
   "source": [
    "import matplotlib.pyplot as plt\n",
    "\n",
    "# Function to create scatter plot\n",
    "def create_scatter_plot(df, x_col, y_col, title):\n",
    "    plt.figure(figsize = (10, 6)) # Figure size is provided\n",
    "    # YOUR CODE HERE - Make the plot a scatter plot with the DataFrame's x_col and y_col as parameters\n",
    "    # YOUR CODE HERE - Set the plot title to the title parameter\n",
    "    # YOUR CODE HERE - Set the x_label to the x_col parameter\n",
    "    # YOUR CODE HERE - Set the y_label to the y_col parameter\n",
    "    # YOUR CODE HERE - # Switch gridlines on (True)\n",
    "    plt.show()\n",
    "\n",
    "# Example usage\n",
    "create_scatter_plot(df, 'BB', 'SO', 'Walk (BB) vs Strikeout (SO) Ratio')\n",
    "create_scatter_plot(df, 'HR', 'AB', 'Home Runs (HR) vs At Bats (AB) Ratio')"
   ]
  },
  {
   "cell_type": "markdown",
   "id": "71b243ef",
   "metadata": {
    "deletable": false,
    "editable": false,
    "nbgrader": {
     "cell_type": "markdown",
     "checksum": "df8124a7fc4c3cff4ab14a833c1f432e",
     "grade": false,
     "grade_id": "cell-45bcff88728da2e5",
     "locked": true,
     "schema_version": 3,
     "solution": false,
     "task": false
    }
   },
   "source": [
    "#### Step 3.2:  Create a box plot\n",
    "Use Matplotlib to generate a box plot with singles, doubles, triples, and home runs. The X label should be Hits and the Y label should be Hit Type. The title should be Distribution of Hits."
   ]
  },
  {
   "cell_type": "code",
   "execution_count": null,
   "id": "3abb9d0d",
   "metadata": {},
   "outputs": [],
   "source": [
    "# Create box plots using Matplotlib\n",
    "plt.figure(figsize = (10, 6)) # Figure size is provided\n",
    "\n",
    "# Set up data to contain the Singles, Doubles, Triples, and Home Runs from the DataFrame \"df\"\n",
    "data = # YOUR CODE HERE\n",
    "\n",
    "# Create the boxplot with specified options\n",
    "plt.boxplot(data, vert=False, patch_artist=True) # Code is provided\n",
    "plt.yticks(range(1, 5), ['Singles', 'Doubles', 'Triples', 'Home Runs']) # Code is provided\n",
    "# YOUR CODE HERE - set xlabel to Hits\n",
    "# YOUR CODE HERE - set ylabel to Hit Type\n",
    "# YOUR CODE HERE - set title to Distribution of Hits\n",
    "# YOUR CODE HERE - # Switch gridlines on (True)\n",
    "plt.show()"
   ]
  },
  {
   "cell_type": "markdown",
   "id": "4fb45f21",
   "metadata": {
    "deletable": false,
    "editable": false,
    "nbgrader": {
     "cell_type": "markdown",
     "checksum": "2dbdf3086fbf1302d010105b1d0bed6c",
     "grade": false,
     "grade_id": "cell-886868b95a7f9031",
     "locked": true,
     "schema_version": 3,
     "solution": false,
     "task": false
    }
   },
   "source": [
    "#### Step 3.3:  Calculate averages and remove outliers\n",
    "Remove all players with 0 walks or 0 strikeouts, and create a new column \"SO/BB\" that calculates the strikeout to walk ratio. Calculate the mean singles, doubles, triples, home runs (HR), and the minimum and maximum strikeout-to-walk ratio (SO/BB) from the column created in this step."
   ]
  },
  {
   "cell_type": "code",
   "execution_count": null,
   "id": "eb39cf72",
   "metadata": {},
   "outputs": [],
   "source": [
    "# Remove players with 0 walks from DataFrame\n",
    "df = # YOUR CODE HERE\n",
    "\n",
    "# Remove players with 0 Strikeouts from DataFrame\n",
    "df = # YOUR CODE HERE\n",
    "\n",
    "# Create column with Strikeout/Walk Ratio %\n",
    "df[\"SO/BB\"] = # YOUR CODE HERE\n",
    "\n",
    "# Use DataFrame functionality to calculate the mean of the fields below\n",
    "average_singles = # YOUR CODE HERE\n",
    "average_doubles = # YOUR CODE HERE\n",
    "average_triples = # YOUR CODE HERE\n",
    "average_hr = # YOUR CODE HERE\n",
    "\n",
    "# Use DataFrame functionality to calculate the max and min of the strikeout to walk ratio\n",
    "max_SO_BB = # YOUR CODE HERE\n",
    "min_SO_BB = # YOUR CODE HERE"
   ]
  },
  {
   "cell_type": "code",
   "execution_count": null,
   "id": "262e6308",
   "metadata": {
    "deletable": false,
    "editable": false,
    "nbgrader": {
     "cell_type": "code",
     "checksum": "dc1fdb8f5a48eb8b20a3803a06eec5aa",
     "grade": true,
     "grade_id": "cell-8d08fb8485faa2e8",
     "locked": true,
     "points": 1,
     "schema_version": 3,
     "solution": false,
     "task": false
    }
   },
   "outputs": [],
   "source": [
    "# Checking Your Results:\n",
    "print(f\"Singles: {average_singles}\")\n",
    "print(f\"Doubles: {average_doubles}\")\n",
    "print(f\"Triples: {average_triples}\")\n",
    "print(f\"Home Runs: {average_hr}\")"
   ]
  },
  {
   "cell_type": "code",
   "execution_count": null,
   "id": "e1d7bd94",
   "metadata": {
    "deletable": false,
    "editable": false,
    "nbgrader": {
     "cell_type": "code",
     "checksum": "e308a0f5a7479e20d32938aaada60e2b",
     "grade": true,
     "grade_id": "cell-9643e7e7ded44123",
     "locked": true,
     "points": 1,
     "schema_version": 3,
     "solution": false,
     "task": false
    }
   },
   "outputs": [],
   "source": [
    "# Checking Your Results:\n",
    "print(f\"Max SO/BB Ratio: {max_SO_BB}\")"
   ]
  },
  {
   "cell_type": "code",
   "execution_count": null,
   "id": "41dd176d",
   "metadata": {
    "deletable": false,
    "editable": false,
    "nbgrader": {
     "cell_type": "code",
     "checksum": "cc0adf1414ed3b60f2fb3f20005a51f0",
     "grade": true,
     "grade_id": "cell-09b588d54fc4da73",
     "locked": true,
     "points": 1,
     "schema_version": 3,
     "solution": false,
     "task": false
    }
   },
   "outputs": [],
   "source": [
    "# Checking Your Results:\n",
    "print(f\"Min SO/BB Ratio: {min_SO_BB}\")"
   ]
  },
  {
   "cell_type": "markdown",
   "id": "f4312d05",
   "metadata": {
    "deletable": false,
    "editable": false,
    "nbgrader": {
     "cell_type": "markdown",
     "checksum": "2955ad09e23138a5ca6f45f738faa407",
     "grade": false,
     "grade_id": "cell-b32f7f4f23f2d33d",
     "locked": true,
     "schema_version": 3,
     "solution": false,
     "task": false
    }
   },
   "source": [
    "### 4. API Integration and Error Handling\n",
    "Now that you have successfully set up your analysis, the next step you want to take is to email your supervisor when the analysis is complete. To do so, you have decided to use SendGrid to send the email. For now, we will use a non-functioning API key, but the steps to apply for a functional one are outlined in step 4.1.\n",
    "#### (optional) Step 4.1: Set Up SendGrid API Account\n",
    "1. **Create a SendGrid Account:** Visit [SendGrid](https://sendgrid.com/) and create a free account by visiting the website and clicking Start for Free.\n",
    "\n",
    "2. **Obtain API Key:** After signing in, navigate to the API keys section in the dashboard and generate a new API key. Store this key in a secure place\n",
    "\n",
    "#### Step 4.2: Install SendGrid library\n",
    "To ensure you have the required SendGrid library, enter the command: `pip install sendgrid`\n",
    "\n",
    "As has been the case with other projects in the past, the installation only needs to be done once per machine."
   ]
  },
  {
   "cell_type": "code",
   "execution_count": null,
   "id": "55341517",
   "metadata": {
    "deletable": false,
    "editable": false,
    "nbgrader": {
     "cell_type": "code",
     "checksum": "df99162b3d7006125e59028ea7414046",
     "grade": false,
     "grade_id": "cell-04ff5fd7804926b5",
     "locked": true,
     "schema_version": 3,
     "solution": false,
     "task": false
    }
   },
   "outputs": [],
   "source": [
    "pip install sendgrid"
   ]
  },
  {
   "cell_type": "markdown",
   "id": "c7c6309d",
   "metadata": {
    "deletable": false,
    "editable": false,
    "nbgrader": {
     "cell_type": "markdown",
     "checksum": "65af2eeb2f74bfcfc42d24b91384baf1",
     "grade": false,
     "grade_id": "cell-d96ce6a5faff3920",
     "locked": true,
     "schema_version": 3,
     "solution": false,
     "task": false
    }
   },
   "source": [
    "#### Step 4.3 Use the SendGrid API to Send Alerts\n",
    "Once you have your SendGrid API key, integrate it into your Python script to send email alerts. Here, you will need to bring in your API key. You are using the basic email code snippet provided by SendGrid. The main things you will need to change are bringing in your API key and configuring the message. \n",
    "\n",
    "For the purposes of this exercise, you will be provided with a (non-functioning) SendGrid API key. In general, API keys are alphanumeric strings ranging from 20 to 128 characters and are case sensitive. The ones provided by SendGrid are 69 characters.\n",
    "\n",
    "Assume for this exercise your API key is: `F4kG7dL9pM2aB5nR8eJ1cK6oI3hN4gD5qE6fT7yU8wX9zA0bC1vM2aB5nR8eJ1cK6oI3h`\n",
    "\n",
    "The email should have the following characteristics.\n",
    "- Your email: `admin@example.com`\n",
    "- Supervisor's email: `rshah@example.com`\n",
    "- Subject: `Analysis completed for today`\n",
    "- Message (plain text): `Baseball analysis is completed for today. Please view the statistics_CURRENT.csv to review details.`\n",
    "\n",
    "Insert your API key in the code below, and adjust the code to set up the email message. You will schedule the email in a future step. Ensure the arguments in the mail generation are separated by commas."
   ]
  },
  {
   "cell_type": "code",
   "execution_count": null,
   "id": "0672acb4",
   "metadata": {},
   "outputs": [],
   "source": [
    "import sendgrid\n",
    "from sendgrid.helpers.mail import Mail\n",
    "import logging\n",
    "\n",
    "# Set up SendGrid API credentials\n",
    "SENDGRID_API_KEY = 'sendgrid_api_key' # Replace with your API Key\n",
    "\n",
    "sg = sendgrid.SendGridAPIClient(SENDGRID_API_KEY)\n",
    "\n",
    "message = Mail(\n",
    "    from_email = # YOUR CODE HERE - Add your 'from' email address \n",
    "    to_emails = # YOUR CODE HERE - Add the 'to' email address\n",
    "    subject = # YOUR CODE HERE -  Add subject\n",
    "    plain_text_content = # YOUR CODE HERE - Add content\n",
    ")"
   ]
  },
  {
   "cell_type": "code",
   "execution_count": null,
   "id": "1781195e",
   "metadata": {
    "deletable": false,
    "editable": false,
    "nbgrader": {
     "cell_type": "code",
     "checksum": "120a5de6b25a4b568831781af32e0497",
     "grade": true,
     "grade_id": "cell-3e9725342e31c748",
     "locked": true,
     "points": 2,
     "schema_version": 3,
     "solution": false,
     "task": false
    }
   },
   "outputs": [],
   "source": [
    "# Checking API Key, To and From Email Addresses, subject, and email content"
   ]
  },
  {
   "cell_type": "markdown",
   "id": "13fd5069",
   "metadata": {
    "deletable": false,
    "editable": false,
    "nbgrader": {
     "cell_type": "markdown",
     "checksum": "4e368acbef657e854b81a4418409213b",
     "grade": false,
     "grade_id": "cell-6b919462ea027b46",
     "locked": true,
     "schema_version": 3,
     "solution": false,
     "task": false
    }
   },
   "source": [
    "#### Step 4.4: Log success or failure\n",
    "Now that you have set up the email using SendGrid, you want to send the message. SendGrid will respond with a successful status code or an exception. Here, add an logging info message saying `Email Sent Successfully` when the message is sent. If there is an exception, add a logging info message saying `Email Message Failure`.\n",
    "\n",
    "Assume the logging library is imported and you can reference the method by using `logging.info`.\n",
    "\n",
    "Given you are using a non-functioning API key, running this code should result in an failure message."
   ]
  },
  {
   "cell_type": "code",
   "execution_count": null,
   "id": "d966cf23",
   "metadata": {},
   "outputs": [],
   "source": [
    "try:\n",
    "    response = sg.send(message)\n",
    "    # YOUR CODE HERE Add a logging info level print statement\n",
    "    \n",
    "except Exception as e:\n",
    "    # YOUR CODE HERE Add a logging info here"
   ]
  },
  {
   "cell_type": "code",
   "execution_count": null,
   "id": "713008ef",
   "metadata": {
    "deletable": false,
    "editable": false,
    "nbgrader": {
     "cell_type": "code",
     "checksum": "c6ec0a66d04997aa3004874807ec0b65",
     "grade": true,
     "grade_id": "cell-ab477a92805f9724",
     "locked": true,
     "points": 2,
     "schema_version": 3,
     "solution": false,
     "task": false
    }
   },
   "outputs": [],
   "source": [
    "# Checking Your Results (success and failure logging)"
   ]
  },
  {
   "cell_type": "markdown",
   "id": "1b7639e6",
   "metadata": {
    "deletable": false,
    "editable": false,
    "nbgrader": {
     "cell_type": "markdown",
     "checksum": "5772471d3c8bfe7c100a0170b1fe8854",
     "grade": false,
     "grade_id": "cell-c5dac1ce8aabc1a7",
     "locked": true,
     "schema_version": 3,
     "solution": false,
     "task": false
    }
   },
   "source": [
    "### 5. Scheduling\n",
    "#### Step 5.1: Automate Tasks with a Schedule\n",
    "Use the `schedule` library to automate tasks like updating data, generating visualizations, and sending alerts. Assume you have an `email_message` function designed. Your task is to schedule the task to run every day at 9 AM. "
   ]
  },
  {
   "cell_type": "code",
   "execution_count": null,
   "id": "60a84c40",
   "metadata": {},
   "outputs": [],
   "source": [
    "pip install schedule"
   ]
  },
  {
   "cell_type": "code",
   "execution_count": null,
   "id": "cf463b7b",
   "metadata": {},
   "outputs": [],
   "source": [
    "import schedule\n",
    "import time\n",
    "\n",
    "# Mock function for emailing a message. Call this function using schedule below.\n",
    "def email_message():\n",
    "    pass\n",
    "\n",
    "# Schedule the job to run every day at 9 AM\n",
    "# YOUR CODE HERE"
   ]
  },
  {
   "cell_type": "code",
   "execution_count": null,
   "id": "604a98e1",
   "metadata": {
    "deletable": false,
    "editable": false,
    "nbgrader": {
     "cell_type": "code",
     "checksum": "eed7f7bd196da2fe18fa7a6ecd712d4c",
     "grade": true,
     "grade_id": "cell-8785d42215afa2cb",
     "locked": true,
     "points": 2,
     "schema_version": 3,
     "solution": false,
     "task": false
    }
   },
   "outputs": [],
   "source": [
    "# Checking Your Results"
   ]
  },
  {
   "cell_type": "markdown",
   "id": "e4209ba4",
   "metadata": {
    "deletable": false,
    "editable": false,
    "nbgrader": {
     "cell_type": "markdown",
     "checksum": "25e6efe3655563a6cfd18c744d9205ae",
     "grade": false,
     "grade_id": "cell-9a463a149f766319",
     "locked": true,
     "schema_version": 3,
     "solution": false,
     "task": false
    }
   },
   "source": [
    "### 6. File Operations and Logging \n",
    "Managing files on storage is important, whether it is in a database or in a file. In some cases, you may need to move files around. In your example, instead of overwriting a file, you will want to make a backup of the previous file. Here, you will want to keep two versions of your file, the current version and the previous version, and log any file operations.\n",
    "#### Step 6.1: Manipulate project files\n",
    "Your next task is to save your data and also log the results. Here is your plan.\n",
    "1. You want to see if statistics_CURRENT.csv exists. If it does:\n",
    "\n",
    "    a. If it exists, delete the file statistics_OLD.csv (and log an info message that you have done it)\n",
    "    \n",
    "    b. Rename statistics_CURRENT.CSV to statistics_OLD.csv (and log an info message that you have done it)\n",
    "    \n",
    "    \n",
    "2. Convert the data frame to a CSV and save it as statistics_CURRENT.csv (and log an info message that you have done it)."
   ]
  },
  {
   "cell_type": "code",
   "execution_count": null,
   "id": "248e9e54",
   "metadata": {},
   "outputs": [],
   "source": [
    "import os\n",
    "import logging\n",
    "\n",
    "# File names\n",
    "current_file = 'statistics_CURRENT.csv'\n",
    "old_file = 'statistics_OLD.csv'\n",
    "\n",
    "# Check if the file exists\n",
    "if # YOUR CODE HERE:\n",
    "    # Delete the old file\n",
    "    if # YOUR CODE HERE\n",
    "        # YOUR CODE HERE - use os library to delete old_file\n",
    "        # YOUR CODE HERE - log an info message \"Deleted old backup\"\n",
    "        \n",
    "    # Rename the current file to old\n",
    "    # YOUR CODE HERE - Rename current_file to old file using os library\n",
    "    # YOUR CODE HERE - log an info message \"Backed up current file\"\n",
    "    \n",
    "# Save the DataFrame to the new CSV file\n",
    "df.to_csv(current_file, index=False)\n",
    "# YOUR CODE HERE - Log an info message \"Statistics written to file\""
   ]
  },
  {
   "cell_type": "code",
   "execution_count": null,
   "id": "9a8fdc38",
   "metadata": {
    "deletable": false,
    "editable": false,
    "nbgrader": {
     "cell_type": "code",
     "checksum": "70f9d01a374448169d7c0867d923b8c5",
     "grade": true,
     "grade_id": "cell-7cc5ad7bd240b0dd",
     "locked": true,
     "points": 2,
     "schema_version": 3,
     "solution": false,
     "task": false
    }
   },
   "outputs": [],
   "source": [
    "# Checking Your Results"
   ]
  },
  {
   "cell_type": "markdown",
   "id": "ef725979",
   "metadata": {
    "deletable": false,
    "editable": false,
    "nbgrader": {
     "cell_type": "markdown",
     "checksum": "4ac804d20cd041dba4314a2ca4c2329e",
     "grade": false,
     "grade_id": "cell-8012dcfba3bfba8d",
     "locked": true,
     "schema_version": 3,
     "solution": false,
     "task": false
    }
   },
   "source": [
    "### Hints & Tips\n",
    "- Use meaningful commit messages to track your progress.\n",
    "- In real world applications, you’ll want to ensure that your API credentials are stored securely (e.g., using environment variables).\n",
    "- Test the automation script before scheduling it to run periodically."
   ]
  },
  {
   "cell_type": "markdown",
   "id": "6a56716d",
   "metadata": {
    "deletable": false,
    "editable": false,
    "nbgrader": {
     "cell_type": "markdown",
     "checksum": "d3c1945bb6dae5ee40d8fe7966382329",
     "grade": false,
     "grade_id": "cell-7d74b8b24e329d2c",
     "locked": true,
     "schema_version": 3,
     "solution": false,
     "task": false
    }
   },
   "source": [
    "#### End of Lab\n",
    "By completing this lab, you’ve gained experience in building automated solutions for data analysis and visualization. You’ve learned how to integrate libraries and APIs and managed the project using Git. These real-world skills are in high demand in many fields including software engineering and data analysis!"
   ]
  }
 ],
 "metadata": {
  "kernelspec": {
   "display_name": "Python 3 (ipykernel)",
   "language": "python",
   "name": "python3"
  },
  "language_info": {
   "codemirror_mode": {
    "name": "ipython",
    "version": 3
   },
   "file_extension": ".py",
   "mimetype": "text/x-python",
   "name": "python",
   "nbconvert_exporter": "python",
   "pygments_lexer": "ipython3",
   "version": "3.10.6"
  }
 },
 "nbformat": 4,
 "nbformat_minor": 5
}
