{
 "cells": [
  {
   "cell_type": "markdown",
   "id": "3069e96f",
   "metadata": {
    "deletable": false,
    "editable": false,
    "nbgrader": {
     "cell_type": "markdown",
     "checksum": "013ab8deaf7f584c80dad975e9b4a2c0",
     "grade": false,
     "grade_id": "cell-47739df66b9c9dbc",
     "locked": true,
     "schema_version": 3,
     "solution": false,
     "task": false
    }
   },
   "source": [
    "## Solve Problems with Python\n",
    "In this lab, you will use Python to solve coding challenges related to real-world scenarios. Each activity will focus on different aspects of Python such as conditional statements, iteration, and sorting techniques."
   ]
  },
  {
   "cell_type": "markdown",
   "id": "2672035f",
   "metadata": {
    "deletable": false,
    "editable": false,
    "nbgrader": {
     "cell_type": "markdown",
     "checksum": "3c75a9afd0c36f4d3df193d777871afa",
     "grade": false,
     "grade_id": "cell-c4b0e753e52ff39c",
     "locked": true,
     "schema_version": 3,
     "solution": false,
     "task": false
    }
   },
   "source": [
    "### Information about grading and troubleshooting\n",
    "- To receive a grade, click Submit assignment at the top of the page.\n",
    "- If you encounter problems and want to start over, you can use the ? icon on the top of the page and click Get latest version. If that doesn't work, you can submit the incomplete assignment and start a new submission.\n",
    "\n",
    "### Tips for completing this lab\n",
    "As you navigate this lab, keep the following tips in mind:\n",
    "- ```### YOUR CODE HERE ###``` indicates where you should write code. Be sure to replace this with your own code before running the code cell.\n",
    "- Feel free to open the hints for additional guidance as you work on each task.\n",
    "- You can save your work manually by clicking File and then Save in the menu bar at the top of the notebook.\n",
    "- You can download your work locally by clicking File and then Download and then specifying your preferred file format in the menu bar at the top of the notebook.\n",
    "- For any print statements, make sure your capitalization matches the requirements. Remember, Python considers \"Discount\" and \"discount\" as not equal.\n",
    "\n",
    "### Activity 1: Making Decisions with Conditional Statements\n",
    "#### Introduction\n",
    "As a data analyst for an online book store, you're tasked with analyzing customer purchasing patterns. The marketing team wants to send special discount codes to customers based on the number of books they’ve purchased. If a customer has purchased enough books, they’ll receive a discount. If they’ve purchased more, they might qualify for an even better discount.\n",
    "#### Task 1: Define a Discount Function\n",
    "You need to write a function that helps the marketing team decide which customers should receive a discount.\n",
    "\n",
    "Define a function called ```send_discount``` that accepts two arguments:\n",
    "- ```books_purchased```: The number of books a customer has purchased.\n",
    "- ```discount_threshold```: The minimum number of books a customer needs to purchase to receive a discount.\n",
    "\n",
    "The function must print either of the two possible messages, as shown below. Be careful not to miss the punctuation in your print statement.\n",
    "- ```Discount applied!``` if the customer qualifies for a discount.\n",
    "- ```No discount.``` if the customer does not qualify.\n",
    "\n",
    "#### Example:\n",
    "\n",
    "```python\n",
    "send_discount(books_purchased=3, discount_threshold=5)\n",
    "# Output: No discount.\n",
    "\n",
    "send_discount(books_purchased=7, discount_threshold=5)\n",
    "# Output: Discount applied!\n",
    "\n",
    "```\n",
    "\n",
    "#### Code Template:"
   ]
  },
  {
   "cell_type": "code",
   "execution_count": null,
   "id": "0812c8e2",
   "metadata": {},
   "outputs": [],
   "source": [
    "def send_discount(books_purchased, discount_threshold):\n",
    "    pass"
   ]
  },
  {
   "cell_type": "markdown",
   "id": "c6037e7c",
   "metadata": {
    "deletable": false,
    "editable": false,
    "nbgrader": {
     "cell_type": "markdown",
     "checksum": "8101caa91cab809bf81efac90cb173e7",
     "grade": false,
     "grade_id": "cell-40aa8fb2e1349cf7",
     "locked": true,
     "schema_version": 3,
     "solution": false,
     "task": false
    }
   },
   "source": [
    "#### Hints:\n",
    "<details>\n",
    "<summary>Hint 1</summary>\n",
    "\n",
    "- Use an `if` statement to check if `books_purchased` meets or exceeds the `discount_threshold`.\n",
    "</details>\n",
    "\n",
    "<details>\n",
    "<summary>Hint 2</summary>\n",
    "\n",
    "- Use a `print` statement to display the correct message.\n",
    "</details>\n",
    "\n",
    "#### Test Your Function:"
   ]
  },
  {
   "cell_type": "code",
   "execution_count": null,
   "id": "0546a1fb",
   "metadata": {
    "deletable": false,
    "editable": false,
    "nbgrader": {
     "cell_type": "code",
     "checksum": "19e7ee05952fe145ad80d15dfe4c9f38",
     "grade": true,
     "grade_id": "cell-14c941785f8fc8de",
     "locked": true,
     "points": 2,
     "schema_version": 3,
     "solution": false,
     "task": false
    }
   },
   "outputs": [],
   "source": [
    "# Checking your results \n",
    "send_discount(3, 5)  # Should print No discount.\n",
    "send_discount(7, 5)  # Should print Discount applied!"
   ]
  },
  {
   "cell_type": "markdown",
   "id": "a9098d8f",
   "metadata": {
    "deletable": false,
    "editable": false,
    "nbgrader": {
     "cell_type": "markdown",
     "checksum": "bc467ab712be1a8ef2ca9175a585e865",
     "grade": false,
     "grade_id": "cell-2c2ef7f2cba82916",
     "locked": true,
     "schema_version": 3,
     "solution": false,
     "task": false
    }
   },
   "source": [
    "#### Task 2: Add Logical Branching for Multiple Discount Levels\n",
    "The store offers an additional promotion: If a customer purchases more than a certain number of books, they’ll receive an even bigger discount. Update your function to include this second level of discounts.\n",
    "\n",
    "Add an additional argument, `bonus_threshold`, which represents the number of books needed to receive the better discount.\n",
    "\n",
    "The function must print one of three possible messages, as shown below. Be careful not to miss the punctuation in your print statement.\n",
    "- `Big discount applied!` if the customer qualifies for the higher discount.\n",
    "- `Discount applied!` if the customer qualifies for the regular discount.\n",
    "- `No discount.` if they do not qualify for any discount.\n",
    "\n",
    "#### Example:\n",
    "\n",
    "```python\n",
    "send_discount(books_purchased=3, discount_threshold=5, bonus_threshold=10)\n",
    "# Output: No discount.\n",
    "\n",
    "send_discount(books_purchased=7, discount_threshold=5, bonus_threshold=10)\n",
    "# Output: Discount applied!\n",
    "\n",
    "send_discount(books_purchased=12, discount_threshold=5, bonus_threshold=10)\n",
    "# Output: Big discount applied!\n",
    "```\n",
    "\n",
    "#### Code Template:\n"
   ]
  },
  {
   "cell_type": "code",
   "execution_count": null,
   "id": "0e111f07",
   "metadata": {},
   "outputs": [],
   "source": [
    "def send_discount(books_purchased, discount_threshold, bonus_threshold):\n",
    "    ### YOUR CODE HERE ###\n",
    "    pass"
   ]
  },
  {
   "cell_type": "markdown",
   "id": "45a1dae2",
   "metadata": {
    "deletable": false,
    "editable": false,
    "nbgrader": {
     "cell_type": "markdown",
     "checksum": "476de91c97887cfa7029c9dc03a01b1c",
     "grade": false,
     "grade_id": "cell-92359a1b8817e753",
     "locked": true,
     "schema_version": 3,
     "solution": false,
     "task": false
    }
   },
   "source": [
    "#### Hints:\n",
    "\n",
    "<details>\n",
    "<summary>Hint 1</summary>\n",
    "    \n",
    "- Start by checking if the customer qualifies for the **big discount** using an `if` statement.\n",
    "</details>\n",
    "\n",
    "<details>\n",
    "<summary>Hint 2</summary>\n",
    "    \n",
    "- Use an `elif` to check if they qualify for the regular discount.\n",
    "</details>\n",
    "\n",
    "<details>\n",
    "<summary>Hint 3</summary>\n",
    "    \n",
    "- Use an `else` statement to handle cases where they don't qualify for any discount.\n",
    "</details>\n",
    "\n",
    "#### Test Your Function:"
   ]
  },
  {
   "cell_type": "code",
   "execution_count": null,
   "id": "e7046be9",
   "metadata": {
    "deletable": false,
    "editable": false,
    "nbgrader": {
     "cell_type": "code",
     "checksum": "7e1169cf08d4d427303cd4329453cb52",
     "grade": true,
     "grade_id": "cell-7f2407710034a89a",
     "locked": true,
     "points": 2,
     "schema_version": 3,
     "solution": false,
     "task": false
    }
   },
   "outputs": [],
   "source": [
    "# Checking your results \n",
    "send_discount(3, 5, 10)   # Should print No discount.\n",
    "send_discount(7, 5, 10)   # Should print Discount applied!\n",
    "send_discount(12, 5, 10)  # Should print Big discount applied!"
   ]
  },
  {
   "cell_type": "markdown",
   "id": "828e0209",
   "metadata": {
    "deletable": false,
    "editable": false,
    "nbgrader": {
     "cell_type": "markdown",
     "checksum": "d9895dafc8c8bd0416aa50738ad034bc",
     "grade": false,
     "grade_id": "cell-c286cee4592b0c58",
     "locked": true,
     "schema_version": 3,
     "solution": false,
     "task": false
    }
   },
   "source": [
    "### Activity 2: Using Loops for Repetitive Tasks\n",
    "#### Introduction\n",
    "You are a product manager at a technology startup. Customers have been providing ratings for the company's latest app. The marketing team wants to categorize this feedback into three categories: \"Low\", \"Medium\", and \"High\" ratings. You will use Python's iteration techniques to process customer ratings efficiently.\n",
    "#### Task 1: Categorize Customer Ratings\n",
    "Define a function called `categorize_ratings` that takes a list of customer ratings as input. Each rating is a whole number between 1 and 10.\n",
    "\n",
    "Your function will categorize the ratings as:\n",
    "- **Low** (1-4)\n",
    "- **Medium** (5-7)\n",
    "- **High** (8-10)\n",
    "\n",
    "The output must print three statements, one for each category, in the following order (Low, then Medium, then High):\n",
    "<br>`Low: {number_of_low_ratings}`<br>\n",
    "`Medium: {number_of_medium_ratings}`<br>\n",
    "`High: {number_of_high_ratings}`<br>\n",
    "\n",
    "#### Example:\n",
    "```python\n",
    "# There are two ratings in the range 1-4, two ratings in the range of 5-7 and two ratings in the range 8-10\n",
    "categorize_ratings([1, 3, 5, 7, 8, 9])\n",
    "```\n",
    "**Output:**\n",
    "<br>`Low: 2`<br>\n",
    "`Medium: 2`<br>\n",
    "`High: 2`<br>\n",
    "#### Code Template:"
   ]
  },
  {
   "cell_type": "code",
   "execution_count": null,
   "id": "3d9281b3",
   "metadata": {},
   "outputs": [],
   "source": [
    "def categorize_ratings(rating_list):\n",
    "    # YOUR CODE HERE\n",
    "    pass"
   ]
  },
  {
   "cell_type": "markdown",
   "id": "0018e6c0",
   "metadata": {
    "deletable": false,
    "editable": false,
    "nbgrader": {
     "cell_type": "markdown",
     "checksum": "d1a741025ff83a4d311f7db95b1dcfd1",
     "grade": false,
     "grade_id": "cell-42f4c51ca90550a7",
     "locked": true,
     "schema_version": 3,
     "solution": false,
     "task": false
    }
   },
   "source": [
    "#### Hints:\n",
    "<details>\n",
    "<summary>Hint 1</summary>\n",
    "    \n",
    "- Use a `for` loop to iterate through the `rating_list`.\n",
    "</details>\n",
    "\n",
    "<details>\n",
    "<summary>Hint 2</summary>\n",
    "    \n",
    "- Keep a counter for each category: low, medium, and high.\n",
    "</details>\n",
    "\n",
    "<details>\n",
    "<summary>Hint 3</summary>\n",
    "    \n",
    "- Use `if`, `elif`, and `else` to decide which category each rating falls into.\n",
    "</details>\n",
    "\n",
    "#### Test Your Function:"
   ]
  },
  {
   "cell_type": "code",
   "execution_count": null,
   "id": "93494100",
   "metadata": {
    "deletable": false,
    "editable": false,
    "nbgrader": {
     "cell_type": "code",
     "checksum": "0dad973f12c18fca5229ab3cb29eb1fd",
     "grade": true,
     "grade_id": "cell-0861664cbdebda6c",
     "locked": true,
     "points": 2,
     "schema_version": 3,
     "solution": false,
     "task": false
    }
   },
   "outputs": [],
   "source": [
    "# Checking your results \n",
    "# Calling categorize_ratings([1, 3, 5, 7, 8, 9])\n",
    "categorize_ratings([1, 3, 5, 7, 8, 9])\n",
    "print(\"Expected Output:\\nLow: 2\\nMedium: 2\\nHigh: 2\")"
   ]
  },
  {
   "cell_type": "markdown",
   "id": "3104a982",
   "metadata": {
    "deletable": false,
    "editable": false,
    "nbgrader": {
     "cell_type": "markdown",
     "checksum": "1b776075085473056bbc79881e6f8316",
     "grade": false,
     "grade_id": "cell-5bb938b9da345e0d",
     "locked": true,
     "schema_version": 3,
     "solution": false,
     "task": false
    }
   },
   "source": [
    "### Activity 3: Sorting Test Scores with Error Handling\n",
    "#### Introduction\n",
    "You are a coder working with test scores, focusing on sorting techniques and error handling in Python. You’ll use common sorting algorithms and write robust functions that account for possible errors.\n",
    "\n",
    "#### Task 1: Creating and Sorting Test Scores\n",
    "You have a list of students and their corresponding test scores. Your task is to organize and analyze the scores using sorting algorithms and Python's error-handling mechanisms.\n",
    "#### Step 1: Create the List of Students\n",
    "Create a list called `students` that contains the following student names: John, Lisa, Mary, Chris, Linda, Matt"
   ]
  },
  {
   "cell_type": "code",
   "execution_count": null,
   "id": "baea2ad2",
   "metadata": {},
   "outputs": [],
   "source": [
    "### YOUR CODE HERE ###\n"
   ]
  },
  {
   "cell_type": "markdown",
   "id": "58be97f4",
   "metadata": {
    "deletable": false,
    "editable": false,
    "nbgrader": {
     "cell_type": "markdown",
     "checksum": "ff6adc7d6f0b41624d849049668df71c",
     "grade": false,
     "grade_id": "cell-857bd42512699923",
     "locked": true,
     "schema_version": 3,
     "solution": false,
     "task": false
    }
   },
   "source": [
    "#### Step 2: Create a Dictionary of Test Scores\n",
    "Create a dictionary called `test_performance` and assign the following scores to each student as follows:\n",
    "- John: 87\n",
    "- Lisa: 90\n",
    "- Mary: 75\n",
    "- Chris: 100\n",
    "- Linda: 100\n",
    "- Matt: 70"
   ]
  },
  {
   "cell_type": "code",
   "execution_count": null,
   "id": "50942dfc",
   "metadata": {},
   "outputs": [],
   "source": [
    "### YOUR CODE HERE ###\n"
   ]
  },
  {
   "cell_type": "markdown",
   "id": "c1b12d69",
   "metadata": {
    "deletable": false,
    "editable": false,
    "nbgrader": {
     "cell_type": "markdown",
     "checksum": "2135dcc08361d5b99737540817593053",
     "grade": false,
     "grade_id": "cell-9d46b49483345dea",
     "locked": true,
     "schema_version": 3,
     "solution": false,
     "task": false
    }
   },
   "source": [
    "#### Step 3: Extract the Scores from the Dictionary \n",
    "Create a list called `scores` and extract each student's score using a `for` loop."
   ]
  },
  {
   "cell_type": "code",
   "execution_count": null,
   "id": "52d8783c",
   "metadata": {},
   "outputs": [],
   "source": [
    "### YOUR CODE HERE ###\n"
   ]
  },
  {
   "cell_type": "markdown",
   "id": "f73577dd",
   "metadata": {
    "deletable": false,
    "editable": false,
    "nbgrader": {
     "cell_type": "markdown",
     "checksum": "60e4c77a1842b66a7c01201483bc9925",
     "grade": false,
     "grade_id": "cell-fc9dbddfb5e17c7b",
     "locked": true,
     "schema_version": 3,
     "solution": false,
     "task": false
    }
   },
   "source": [
    "#### Step 4: Sorting the Scores with a Custom Function \n",
    "Define a function called `bubble_sort` that sorts the list of scores in ascending order."
   ]
  },
  {
   "cell_type": "code",
   "execution_count": null,
   "id": "199d23a4",
   "metadata": {},
   "outputs": [],
   "source": [
    "### YOUR CODE HERE ###\n"
   ]
  },
  {
   "cell_type": "markdown",
   "id": "ef5fb36a",
   "metadata": {
    "deletable": false,
    "editable": false,
    "nbgrader": {
     "cell_type": "markdown",
     "checksum": "5200cc88564e164bc6463ed2ec7efa76",
     "grade": false,
     "grade_id": "cell-85148ea8fd6661d1",
     "locked": true,
     "schema_version": 3,
     "solution": false,
     "task": false
    }
   },
   "source": [
    "#### Step 5: Assign the Sorted Scores to `sorted_scores`\n",
    "Call the `bubble_sort` function you defined above and assign the return value to `sorted_scores`."
   ]
  },
  {
   "cell_type": "code",
   "execution_count": null,
   "id": "11194939",
   "metadata": {},
   "outputs": [],
   "source": [
    "### YOUR CODE HERE ###\n"
   ]
  },
  {
   "cell_type": "markdown",
   "id": "f1061dc3",
   "metadata": {
    "deletable": false,
    "editable": false,
    "nbgrader": {
     "cell_type": "markdown",
     "checksum": "3016c143c0ef37ce72952028bc5a5e76",
     "grade": false,
     "grade_id": "cell-093b8afebcc35bad",
     "locked": true,
     "schema_version": 3,
     "solution": false,
     "task": false
    }
   },
   "source": [
    "#### Hints for Activity 3 - Task 1:\n",
    "\n",
    "<details>\n",
    "<summary>Hint 1</summary>\n",
    "    \n",
    "- **Sorting:** For the `bubble_sort` function, focus on comparing and swapping elements.\n",
    "</details>\n",
    "\n",
    "#### Test Your Results:"
   ]
  },
  {
   "cell_type": "code",
   "execution_count": null,
   "id": "b4895275",
   "metadata": {
    "deletable": false,
    "editable": false,
    "nbgrader": {
     "cell_type": "code",
     "checksum": "fabd0f323bf2ecd160956528affb9ad5",
     "grade": true,
     "grade_id": "cell-6daf02c81940356f",
     "locked": true,
     "points": 2,
     "schema_version": 3,
     "solution": false,
     "task": false
    }
   },
   "outputs": [],
   "source": [
    "# Checking your results \n",
    "print(sorted_scores)"
   ]
  },
  {
   "cell_type": "markdown",
   "id": "131189b7",
   "metadata": {
    "deletable": false,
    "editable": false,
    "nbgrader": {
     "cell_type": "markdown",
     "checksum": "d860b0446321707a0d423c1c962ef661",
     "grade": false,
     "grade_id": "cell-0e8752423c3ba45c",
     "locked": true,
     "schema_version": 3,
     "solution": false,
     "task": false
    }
   },
   "source": [
    "#### Task 2: Calculating and Handling Errors\n",
    "#### Step 1: Calculate the Highest and Lowest Scores\n",
    "Use the `sorted_scores` list you defined above to assign the correct values to `highest_score` and `lowest_score` below."
   ]
  },
  {
   "cell_type": "code",
   "execution_count": null,
   "id": "598f2c0a",
   "metadata": {},
   "outputs": [],
   "source": [
    "### YOUR CODE HERE ###\n"
   ]
  },
  {
   "cell_type": "markdown",
   "id": "178f9fe1",
   "metadata": {
    "deletable": false,
    "editable": false,
    "nbgrader": {
     "cell_type": "markdown",
     "checksum": "21c935b979d80be8365b3fd43436cea1",
     "grade": false,
     "grade_id": "cell-b6e153b27d3b836f",
     "locked": true,
     "schema_version": 3,
     "solution": false,
     "task": false
    }
   },
   "source": [
    "#### Step 2: Define a Function to Calculate the Class Average \n",
    "Define a function called `average_class_score` to calculate the average score. Add error handling for cases when the student list is empty."
   ]
  },
  {
   "cell_type": "code",
   "execution_count": null,
   "id": "b6a13b6e",
   "metadata": {},
   "outputs": [],
   "source": [
    "### YOUR CODE HERE ###\n"
   ]
  },
  {
   "cell_type": "markdown",
   "id": "920daad9",
   "metadata": {
    "deletable": false,
    "editable": false,
    "nbgrader": {
     "cell_type": "markdown",
     "checksum": "0bd85a79b66b1464a0413f45b7fdcfc3",
     "grade": false,
     "grade_id": "cell-1fb85dc8f803e13f",
     "locked": true,
     "schema_version": 3,
     "solution": false,
     "task": false
    }
   },
   "source": [
    "#### Step 3: Calculate the Average Score\n",
    "Use the `average_class_score` function you defined above to assign the average score to `average_score` below."
   ]
  },
  {
   "cell_type": "code",
   "execution_count": null,
   "id": "4a63dec1",
   "metadata": {},
   "outputs": [],
   "source": [
    "### YOUR CODE HERE ###\n"
   ]
  },
  {
   "cell_type": "markdown",
   "id": "c786906f",
   "metadata": {
    "deletable": false,
    "editable": false,
    "nbgrader": {
     "cell_type": "markdown",
     "checksum": "61ba649fd80b60b035cb705ad79ef3f7",
     "grade": false,
     "grade_id": "cell-cedcbd63f33927af",
     "locked": true,
     "schema_version": 3,
     "solution": false,
     "task": false
    }
   },
   "source": [
    "#### Step 4: Handle the Case of an Empty Class\n",
    "Check that the `average_class_score` function can handle an empty class list by running the following code."
   ]
  },
  {
   "cell_type": "code",
   "execution_count": null,
   "id": "8769430e",
   "metadata": {},
   "outputs": [],
   "source": [
    "empty_class = []\n",
    "empty_scores = []\n",
    "error_average = average_class_score(empty_class, empty_scores)"
   ]
  },
  {
   "cell_type": "markdown",
   "id": "104a712b",
   "metadata": {
    "deletable": false,
    "editable": false,
    "nbgrader": {
     "cell_type": "markdown",
     "checksum": "88de735b84c91916f1d900a784cac364",
     "grade": false,
     "grade_id": "cell-f2dd27a630191eb3",
     "locked": true,
     "schema_version": 3,
     "solution": false,
     "task": false
    }
   },
   "source": [
    "#### Hints for Activity 3 - Task 2:\n",
    "<details>\n",
    "<summary>Hint 1</summary>\n",
    "    \n",
    "- **Error Handling:** Use `try-except` blocks to handle division by zero when calculating the average score.\n",
    "</details>\n",
    "\n",
    "#### Test Your Results: "
   ]
  },
  {
   "cell_type": "code",
   "execution_count": null,
   "id": "821b94de",
   "metadata": {
    "deletable": false,
    "editable": false,
    "nbgrader": {
     "cell_type": "code",
     "checksum": "8d12284325da366fae07b6513ba0e84c",
     "grade": true,
     "grade_id": "cell-6cab2b9d9e91111f",
     "locked": true,
     "points": 2,
     "schema_version": 3,
     "solution": false,
     "task": false
    }
   },
   "outputs": [],
   "source": [
    "# Checking your results \n",
    "print(f\"Highest Score: {highest_score}\")\n",
    "print(f\"Lowest Score: {lowest_score}\")\n",
    "\n",
    "print(f\"Average Score: {average_score}\")"
   ]
  },
  {
   "cell_type": "markdown",
   "id": "f79a4b5a",
   "metadata": {
    "deletable": false,
    "editable": false,
    "nbgrader": {
     "cell_type": "markdown",
     "checksum": "57cfd882abd1fe294e16ebbe1b766a24",
     "grade": false,
     "grade_id": "cell-38b2bfa6b5cccc95",
     "locked": true,
     "schema_version": 3,
     "solution": false,
     "task": false
    }
   },
   "source": [
    "#### End of Lab\n",
    "By completing this lab, you’ve gained experience in writing Python functions, applying conditional logic, iterating through lists, sorting data, and handling errors. These foundational skills are essential for solving more complex real-world problems in data analysis and beyond!"
   ]
  }
 ],
 "metadata": {
  "kernelspec": {
   "display_name": "Python 3 (ipykernel)",
   "language": "python",
   "name": "python3"
  },
  "language_info": {
   "codemirror_mode": {
    "name": "ipython",
    "version": 3
   },
   "file_extension": ".py",
   "mimetype": "text/x-python",
   "name": "python",
   "nbconvert_exporter": "python",
   "pygments_lexer": "ipython3",
   "version": "3.10.6"
  }
 },
 "nbformat": 4,
 "nbformat_minor": 5
}
