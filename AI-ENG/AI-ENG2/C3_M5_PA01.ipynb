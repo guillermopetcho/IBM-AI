{
 "cells": [
  {
   "cell_type": "markdown",
   "id": "65e7af58",
   "metadata": {
    "deletable": false,
    "editable": false,
    "nbgrader": {
     "cell_type": "markdown",
     "checksum": "fee175f65cc66b04b811b93c8f57307f",
     "grade": false,
     "grade_id": "cell-59191c7a1c7f0a87",
     "locked": true,
     "schema_version": 3,
     "solution": false,
     "task": false
    }
   },
   "source": [
    "## Objective\n",
    "In this lab, you will analyze a customer dataset to identify key factors influencing customer churn, create visualizations to explore the data, and build a predictive model using machine learning. The goal is to extract actionable insights and present your findings in a comprehensive report.\n",
    "## Scenario\n",
    "You are a data analyst at a fast-growing subscription-based service company. The company is concerned about customer churn—customers canceling their subscriptions—and has tasked you with analyzing customer data. Your objectives are to identify key factors that influence churn and build a predictive model to identify customers at risk of leaving.\n",
    "## Materials Provided\n",
    "- A dataset (`customer_churn.csv`) preloaded into a pandas DataFrame named `df`.\n",
    "- Python environment with essential libraries such as pandas, Scikit-Learn, and Matplotlib pre-installed.\n",
    "\n",
    "## High-Level Tasks\n",
    "1. **Load and Explore the Data**\n",
    "2. **Data Cleaning and Preprocessing**\n",
    "3. **Exploratory Data Analysis (EDA) and Visualization**\n",
    "4. **Machine Learning Model Building and Evaluation**\n",
    "5. **Presenting Findings in a Comprehensive Report**"
   ]
  },
  {
   "cell_type": "markdown",
   "id": "234ed846",
   "metadata": {
    "deletable": false,
    "editable": false,
    "nbgrader": {
     "cell_type": "markdown",
     "checksum": "ca86118a3f2a389312322b4b8d7e0731",
     "grade": false,
     "grade_id": "cell-e4ce7e813121158d",
     "locked": true,
     "schema_version": 3,
     "solution": false,
     "task": false
    }
   },
   "source": [
    "## Lab Instructions\n",
    "### 1. Load and Explore the Data (5 minutes)\n",
    "#### Step 1.1: Import the required Python library and load dataset.\n",
    "Code is provided."
   ]
  },
  {
   "cell_type": "code",
   "execution_count": null,
   "id": "9fc26eb7",
   "metadata": {},
   "outputs": [],
   "source": [
    "import pandas as pd \n",
    "df = pd.read_csv(\"customer_churn.csv\")\n",
    "\n",
    "# Display the first 5 rows of the DataFrame\n",
    "df.head()"
   ]
  },
  {
   "cell_type": "markdown",
   "id": "812c93f5",
   "metadata": {
    "deletable": false,
    "editable": false,
    "nbgrader": {
     "cell_type": "markdown",
     "checksum": "adad5df8ecdbfee7246a3e246376198c",
     "grade": false,
     "grade_id": "cell-c5919c794353da0c",
     "locked": true,
     "schema_version": 3,
     "solution": false,
     "task": false
    }
   },
   "source": [
    "#### Step 1.2: Examine Column Names and Data Types\n",
    "Inspect the column names and data types using `df.info()`. (code provided)"
   ]
  },
  {
   "cell_type": "code",
   "execution_count": null,
   "id": "50f1c785",
   "metadata": {},
   "outputs": [],
   "source": [
    "# Display column names and data types\n",
    "df.info()"
   ]
  },
  {
   "cell_type": "markdown",
   "id": "ff0430b8",
   "metadata": {
    "deletable": false,
    "editable": false,
    "nbgrader": {
     "cell_type": "markdown",
     "checksum": "81c89b9b9edb15773a3ff783dc0b366a",
     "grade": false,
     "grade_id": "cell-41c64d088594a528",
     "locked": true,
     "schema_version": 3,
     "solution": false,
     "task": false
    }
   },
   "source": [
    "#### Step 1.3: Get Summary Statistics\n",
    "Get summary statistics of numerical columns using `df.describe()`. (code provided)"
   ]
  },
  {
   "cell_type": "code",
   "execution_count": null,
   "id": "5e1285bb",
   "metadata": {},
   "outputs": [],
   "source": [
    "# Get summary statistics of numerical columns\n",
    "df.describe()"
   ]
  },
  {
   "cell_type": "markdown",
   "id": "b429bb6b",
   "metadata": {
    "deletable": false,
    "editable": false,
    "nbgrader": {
     "cell_type": "markdown",
     "checksum": "58e7f548fabf351c958106c38d3cb671",
     "grade": false,
     "grade_id": "cell-0e5a9d5bf6967c0c",
     "locked": true,
     "schema_version": 3,
     "solution": false,
     "task": false
    }
   },
   "source": [
    "#### Step 1.4: Remove CSV Index Column\n",
    "The index from the CSV turned into a column and should be dropped. Use `df.drop` to get rid of the `Unnamed: 0` column. Then use `df.describe()` again to confirm the column is removed."
   ]
  },
  {
   "cell_type": "code",
   "execution_count": null,
   "id": "21665c45",
   "metadata": {},
   "outputs": [],
   "source": [
    "# Drop the \"Unnamed: 0\" column\n",
    "### YOUR CODE HERE ###\n",
    "\n",
    "# Use df.describe() to confirm the column was removed (code provided)\n",
    "df.describe()\n",
    "\n",
    "# Expected shape of DataFrame is (3333,11) after dropping column. \n",
    "# Ensure the results are stored in the df variable\n",
    "print(f\"Shape: {df.shape}. Expected is (3333, 11)\")"
   ]
  },
  {
   "cell_type": "markdown",
   "id": "b4bf3b1f",
   "metadata": {
    "deletable": false,
    "editable": false,
    "nbgrader": {
     "cell_type": "markdown",
     "checksum": "94100f40b81a171f27c8e0144567ff97",
     "grade": false,
     "grade_id": "cell-8d149e8a0676842f",
     "locked": true,
     "schema_version": 3,
     "solution": false,
     "task": false
    }
   },
   "source": [
    "#### Check Your Results:"
   ]
  },
  {
   "cell_type": "code",
   "execution_count": null,
   "id": "90cd413e",
   "metadata": {
    "deletable": false,
    "editable": false,
    "nbgrader": {
     "cell_type": "code",
     "checksum": "b4e296355b40ebad14afc288e3278e6e",
     "grade": true,
     "grade_id": "cell-9e569202d4ed92f9",
     "locked": true,
     "points": 1,
     "schema_version": 3,
     "solution": false,
     "task": false
    }
   },
   "outputs": [],
   "source": [
    "# Checking DataFrame (df) shape\n",
    "print(f\"Shape: {df.shape}.\")"
   ]
  },
  {
   "cell_type": "markdown",
   "id": "ef5f21a9",
   "metadata": {
    "deletable": false,
    "editable": false,
    "nbgrader": {
     "cell_type": "markdown",
     "checksum": "b20c18c53e05fd743656d8a66afbb3d1",
     "grade": false,
     "grade_id": "cell-3e0dddd9fcc5b801",
     "locked": true,
     "schema_version": 3,
     "solution": false,
     "task": false
    }
   },
   "source": [
    "#### Step 1.5: Identify Potential Features and Target Variable, and Encode ContractRenewal\n",
    "Select all features from the dataset, except churn (e.g., `\"AccountWeeks\"`, `\"DataPlan\"`, `\"Data Usage\"`, etc) and set the target variable (`'churn'`).\n",
    "\n",
    "You are provided the code for one-hot encoding the `ContractRenewal` column. This column currently has text values (\"Yes\" or \"No\"). pd.get_dummies() converts these text values into numerical 1s and 0s. It creates new columns (`'ContractRenewal_Yes'`, `'ContractRenewal_No'`). A 'Yes' becomes a 1 in the 'Yes' column and 0 in the 'No' column, and vice versa. This allows us to use this information effectively in our machine learning models and in charts."
   ]
  },
  {
   "cell_type": "code",
   "execution_count": null,
   "id": "22424b15",
   "metadata": {},
   "outputs": [],
   "source": [
    "# Select all features and set target variable\n",
    "### YOUR CODE HERE ###\n",
    "features = # YOUR CODE HERE\n",
    "target_variable = # YOUR CODE HERE\n",
    "\n",
    "\n",
    "# One-hot encoding for 'ContractRenewal' feature (provided; do not change)\n",
    "features = pd.get_dummies(features,columns=['ContractRenewal'],dtype=int)\n",
    "# See results with one-hot encoding (Notice last 2 columns)\n",
    "features.head()\n",
    "\n",
    "# Expected shape of features DataFrame is (3333,11) after one-hot encoding. \n",
    "print(f\"features shape: {features.shape}. Expected is (3333, 11)\")\n",
    "# Expected shape of target_variable DataFrame is (3333,).\n",
    "print(f\"target_variable shape: {target_variable.shape}. Expected is (3333,)\")"
   ]
  },
  {
   "cell_type": "markdown",
   "id": "fea10396",
   "metadata": {
    "deletable": false,
    "editable": false,
    "nbgrader": {
     "cell_type": "markdown",
     "checksum": "f112454d49edba0b9bce7f3041afa3e3",
     "grade": false,
     "grade_id": "cell-cd5661f564e64f6d",
     "locked": true,
     "schema_version": 3,
     "solution": false,
     "task": false
    }
   },
   "source": [
    "#### Check Your Results:"
   ]
  },
  {
   "cell_type": "code",
   "execution_count": null,
   "id": "e2c2853f",
   "metadata": {
    "deletable": false,
    "editable": false,
    "nbgrader": {
     "cell_type": "code",
     "checksum": "00d1d67a0619357a8ef3e80e6c647352",
     "grade": true,
     "grade_id": "cell-93ac3f3cef2868a4",
     "locked": true,
     "points": 1,
     "schema_version": 3,
     "solution": false,
     "task": false
    }
   },
   "outputs": [],
   "source": [
    "# Checking DataFrame (features and target_variable) shapes"
   ]
  },
  {
   "cell_type": "markdown",
   "id": "bb936a01",
   "metadata": {
    "deletable": false,
    "editable": false,
    "nbgrader": {
     "cell_type": "markdown",
     "checksum": "8260d6ba289932edaecb7ec95935dbb5",
     "grade": false,
     "grade_id": "cell-aaee18a9bde6dd9e",
     "locked": true,
     "schema_version": 3,
     "solution": false,
     "task": false
    }
   },
   "source": [
    "### 2. Data Cleaning and Preprocessing (5 minutes)\n",
    "#### Step 2.1: Split the Data\n",
    "Split the data into training and testing sets (70% train, 30% test) using `train_test_split` from Scikit-Learn. \n",
    "\n",
    "Make sure to set the `random_state` parameter to 42 to ensure reproducibility and obtain the same results as the expected solution."
   ]
  },
  {
   "cell_type": "code",
   "execution_count": null,
   "id": "67161875",
   "metadata": {},
   "outputs": [],
   "source": [
    "from sklearn.model_selection import train_test_split\n",
    "# Assume \"x\" is features and \"y\" is target_variables\n",
    "x = features \n",
    "y = target_variable\n",
    "\n",
    "# Split the data\n",
    "x_train, x_test, y_train, y_test = # YOUR CODE HERE\n",
    "\n",
    "print(x_train.shape) # Expected (2333,11)\n",
    "print(x_test.shape) # Expected (1000,11)\n",
    "print(y_train.shape) # Expected (2333,)\n",
    "print(y_test.shape) # Expected (1000,)\n"
   ]
  },
  {
   "cell_type": "markdown",
   "id": "4196528c",
   "metadata": {
    "deletable": false,
    "editable": false,
    "nbgrader": {
     "cell_type": "markdown",
     "checksum": "1669499cf6b4557bc8e6c09f6d86e469",
     "grade": false,
     "grade_id": "cell-5707688f97a2aec4",
     "locked": true,
     "schema_version": 3,
     "solution": false,
     "task": false
    }
   },
   "source": [
    "#### Check Your Results:"
   ]
  },
  {
   "cell_type": "code",
   "execution_count": null,
   "id": "2c1ceec3",
   "metadata": {
    "deletable": false,
    "editable": false,
    "nbgrader": {
     "cell_type": "code",
     "checksum": "5792e43c29d0a627205aaf41bd718d4f",
     "grade": true,
     "grade_id": "cell-7c671562a722f644",
     "locked": true,
     "points": 1,
     "schema_version": 3,
     "solution": false,
     "task": false
    }
   },
   "outputs": [],
   "source": [
    "# Checking DataFrame (features and target_variable) shapes"
   ]
  },
  {
   "cell_type": "markdown",
   "id": "48738ee8",
   "metadata": {
    "deletable": false,
    "editable": false,
    "nbgrader": {
     "cell_type": "markdown",
     "checksum": "82768914d0c91687dde14263d026f6b5",
     "grade": false,
     "grade_id": "cell-5c974cd8d0e4e10c",
     "locked": true,
     "schema_version": 3,
     "solution": false,
     "task": false
    }
   },
   "source": [
    "### 3. Exploratory Data Analysis (EDA) and Visualization (20 minutes)\n",
    "#### Step 3.1: Summary Statistics for Relevant Features\n",
    "Calculate and print summary statistics for relevant features (average tenure for churned vs. non-churned customers)."
   ]
  },
  {
   "cell_type": "code",
   "execution_count": null,
   "id": "eb0826db",
   "metadata": {},
   "outputs": [],
   "source": [
    "# Summary statistics for churned vs. non-churned customers\n",
    "churned = # YOUR CODE HERE\n",
    "non_churned = # YOUR CODE HERE\n",
    "\n",
    "# Print average tenure\n",
    "### YOUR CODE HERE ###"
   ]
  },
  {
   "cell_type": "markdown",
   "id": "764f9efc",
   "metadata": {
    "deletable": false,
    "editable": false,
    "nbgrader": {
     "cell_type": "markdown",
     "checksum": "b31567015f6d0264191cc35e984cc410",
     "grade": false,
     "grade_id": "cell-f4a7303017a09697",
     "locked": true,
     "schema_version": 3,
     "solution": false,
     "task": false
    }
   },
   "source": [
    "#### Step 3.2: Create Visualizations\n",
    "Create visualizations (bar chart, histogram, and box plot) to explore the relationships between features and the target variable (`'churn'`). The titles, labels, and commands to show the plots have been provided; you will just need to set up the plots in each cell below."
   ]
  },
  {
   "cell_type": "code",
   "execution_count": null,
   "id": "ac3a1198",
   "metadata": {},
   "outputs": [],
   "source": [
    "import matplotlib.pyplot as plt\n",
    "\n",
    "# Bar chart for contract renewal vs churn\n",
    "churn_counts = # YOUR CODE HERE\n",
    "\n",
    "# Chart options provided\n",
    "churn_counts.plot(kind='bar', stacked=True)\n",
    "plt.title('Contract Renewal vs. Churn')\n",
    "plt.xlabel('Contract Renewal')\n",
    "plt.ylabel('Count')\n",
    "plt.show()"
   ]
  },
  {
   "cell_type": "code",
   "execution_count": null,
   "id": "b5e85d66",
   "metadata": {},
   "outputs": [],
   "source": [
    "import matplotlib.pyplot as plt\n",
    "\n",
    "# Histogram for tenure distribution\n",
    "plt.hist(# YOUR CODE HERE)\n",
    "\n",
    "# Chart options provided\n",
    "plt.title('Tenure Distribution by Churn Status')\n",
    "plt.xlabel('Account Weeks')\n",
    "plt.ylabel('Frequency')\n",
    "plt.legend()\n",
    "plt.show()"
   ]
  },
  {
   "cell_type": "code",
   "execution_count": null,
   "id": "925c14ba",
   "metadata": {},
   "outputs": [],
   "source": [
    "import matplotlib.pyplot as plt\n",
    "\n",
    "# Box plot for monthly charges\n",
    "df.boxplot(# YOUR CODE HERE)\n",
    "\n",
    "# Chart options provided\n",
    "plt.title('Monthly Charges vs. Churn')\n",
    "plt.xlabel('Churn')\n",
    "plt.ylabel('Monthly Charge')\n",
    "plt.suptitle('')  # Remove the default suptitle\n",
    "plt.show()"
   ]
  },
  {
   "cell_type": "markdown",
   "id": "031461ca",
   "metadata": {
    "deletable": false,
    "editable": false,
    "nbgrader": {
     "cell_type": "markdown",
     "checksum": "17c349c001c31e2543bb58793be75108",
     "grade": false,
     "grade_id": "cell-90d557213d510545",
     "locked": true,
     "schema_version": 3,
     "solution": false,
     "task": false
    }
   },
   "source": [
    "#### Step 3.3: Interpret Visualizations\n",
    "Interpret the visualizations and identify key insights about factors influencing churn.  Enter your observations in the cell below. These will not be graded, but this may be useful if you want to add this to your portfolio."
   ]
  },
  {
   "cell_type": "markdown",
   "id": "632d93af",
   "metadata": {},
   "source": [
    "Enter your observations about the visualizations here:\n",
    "\n",
    "- Observation 1: \n",
    "- Observation 2: \n",
    "- Observation 3: "
   ]
  },
  {
   "cell_type": "markdown",
   "id": "c6ea6488",
   "metadata": {
    "deletable": false,
    "editable": false,
    "nbgrader": {
     "cell_type": "markdown",
     "checksum": "29311b5bfb09c028b4a8baeeb78a1290",
     "grade": false,
     "grade_id": "cell-b442585d321b14f2",
     "locked": true,
     "schema_version": 3,
     "solution": false,
     "task": false
    }
   },
   "source": [
    "### 4. Machine Learning Model Building and Evaluation (20 minutes)\n",
    "#### Step 4.1: Choose a Classification Algorithm and Train the Model\n",
    "Import a suitable classification algorithm (`LogisticRegression` in this case) and create an instance of it (provided). \n",
    "\n",
    "Setting `max_iter = 1000` in our Logistic Regression model means we're giving it a limit of 1000 attempts to learn the optimal patterns in the data, which is often a good initial value to allow for convergence without excessive training time, though the ideal number can vary depending on the specific dataset."
   ]
  },
  {
   "cell_type": "code",
   "execution_count": null,
   "id": "284bf201",
   "metadata": {},
   "outputs": [],
   "source": [
    "from sklearn.linear_model import LogisticRegression\n",
    "\n",
    "# Create an instance of the Logistic Regression model (provided)\n",
    "model = LogisticRegression(max_iter = 1000)\n",
    "\n",
    "# Train the model\n",
    "### YOUR CODE HERE ###"
   ]
  },
  {
   "cell_type": "markdown",
   "id": "6c5b7169",
   "metadata": {
    "deletable": false,
    "editable": false,
    "nbgrader": {
     "cell_type": "markdown",
     "checksum": "355a86e940eb84f9869c047ff0dcc17d",
     "grade": false,
     "grade_id": "cell-b25606449086003d",
     "locked": true,
     "schema_version": 3,
     "solution": false,
     "task": false
    }
   },
   "source": [
    "#### Step 4.2: Make Predictions\n",
    "Use the trained model to make predictions on the testing data."
   ]
  },
  {
   "cell_type": "code",
   "execution_count": null,
   "id": "64bb9242",
   "metadata": {},
   "outputs": [],
   "source": [
    "# Make predictions on the test set\n",
    "y_pred = # YOUR CODE HERE"
   ]
  },
  {
   "cell_type": "markdown",
   "id": "2217073c",
   "metadata": {
    "deletable": false,
    "editable": false,
    "nbgrader": {
     "cell_type": "markdown",
     "checksum": "ff27df4a087d4c1a38ae4fedad8d4b64",
     "grade": false,
     "grade_id": "cell-ba2b48b41ac6eb45",
     "locked": true,
     "schema_version": 3,
     "solution": false,
     "task": false
    }
   },
   "source": [
    "#### Step 4.3: Evaluate the Model\n",
    "Evaluate the model's performance using appropriate metrics (`accuracy`, `precision`, `recall`, `f1`).\n",
    "\n",
    "**Note:** For grading purposes, calculate and store each of these metrics in the following variables:\n",
    "- `accuracy`\n",
    "- `precision`\n",
    "- `recall`\n",
    "- `f1`"
   ]
  },
  {
   "cell_type": "code",
   "execution_count": null,
   "id": "03bfedb7",
   "metadata": {},
   "outputs": [],
   "source": [
    "from sklearn.metrics import accuracy_score, precision_score, recall_score, f1_score\n",
    "\n",
    "# Evaluate the model\n",
    "# Round all values to 3 decimal places\n",
    "\n",
    "accuracy = # YOUR CODE HERE\n",
    "precision = # YOUR CODE HERE\n",
    "recall = # YOUR CODE HERE\n",
    "f1 = # YOUR CODE HERE\n",
    "\n",
    "print(f\"Accuracy: {accuracy}\") # Expected: approximately 0.867\n",
    "print(f\"Precision: {precision}\") # Expected: approximately 0.604\n",
    "print(f\"Recall: {recall}\") # Expected: approximately 0.203\n",
    "print(f\"F1 Score: {f1}\") # Expected: approximately 0.304"
   ]
  },
  {
   "cell_type": "markdown",
   "id": "24b86667",
   "metadata": {
    "deletable": false,
    "editable": false,
    "nbgrader": {
     "cell_type": "markdown",
     "checksum": "df74daba87228f9953ec6fcabcdc20c7",
     "grade": false,
     "grade_id": "cell-67f9286f02e450fc",
     "locked": true,
     "schema_version": 3,
     "solution": false,
     "task": false
    }
   },
   "source": [
    "#### Check Your Results:"
   ]
  },
  {
   "cell_type": "code",
   "execution_count": null,
   "id": "2500301c",
   "metadata": {
    "deletable": false,
    "editable": false,
    "nbgrader": {
     "cell_type": "code",
     "checksum": "20da24b03b22229dd2ac4d8614fdeec3",
     "grade": true,
     "grade_id": "cell-c06f9db7c1c75e78",
     "locked": true,
     "points": 3,
     "schema_version": 3,
     "solution": false,
     "task": false
    }
   },
   "outputs": [],
   "source": [
    "# Checking accuracy\n",
    "print(f\"Accuracy: {accuracy}\")"
   ]
  },
  {
   "cell_type": "code",
   "execution_count": null,
   "id": "ab258f7b",
   "metadata": {
    "deletable": false,
    "editable": false,
    "nbgrader": {
     "cell_type": "code",
     "checksum": "3c7bf5794626c99ac3bac8fa1f848d12",
     "grade": true,
     "grade_id": "cell-34319de2b9ba8a09",
     "locked": true,
     "points": 3,
     "schema_version": 3,
     "solution": false,
     "task": false
    }
   },
   "outputs": [],
   "source": [
    "# Checking precision\n",
    "print(f\"Precision: {precision}\")"
   ]
  },
  {
   "cell_type": "code",
   "execution_count": null,
   "id": "174c59d8",
   "metadata": {
    "deletable": false,
    "editable": false,
    "nbgrader": {
     "cell_type": "code",
     "checksum": "d491f812a89b56d38095c54cd9fdfd59",
     "grade": true,
     "grade_id": "cell-ce6bf102cb5584ef",
     "locked": true,
     "points": 3,
     "schema_version": 3,
     "solution": false,
     "task": false
    }
   },
   "outputs": [],
   "source": [
    "# Checking recall\n",
    "print(f\"Recall: {recall}\")"
   ]
  },
  {
   "cell_type": "code",
   "execution_count": null,
   "id": "251a4cce",
   "metadata": {
    "deletable": false,
    "editable": false,
    "nbgrader": {
     "cell_type": "code",
     "checksum": "a4b73f13174c19af59ca7ebbe0450b57",
     "grade": true,
     "grade_id": "cell-3349eebffdb5793b",
     "locked": true,
     "points": 3,
     "schema_version": 3,
     "solution": false,
     "task": false
    }
   },
   "outputs": [],
   "source": [
    "# Checking f1\n",
    "print(f\"F1 Score: {f1}\")"
   ]
  },
  {
   "cell_type": "markdown",
   "id": "a959e74e",
   "metadata": {
    "deletable": false,
    "editable": false,
    "nbgrader": {
     "cell_type": "markdown",
     "checksum": "0f228db8bb772d864c1fc77288e3ab5b",
     "grade": false,
     "grade_id": "cell-e0c629442b08f506",
     "locked": true,
     "schema_version": 3,
     "solution": false,
     "task": false
    }
   },
   "source": [
    "### 5. Presenting Findings in a Comprehensive Report\n",
    "#### Step 5.1: Compile the Results\n",
    "Compile your analysis, visualizations, and model evaluation results into a comprehensive report. Fill them in as directed below. This will not be graded, but may be useful if you want to add this to your portfolio.\n",
    "- `Introduction:` Write a sentence or two describing the purpose of this analysis.\n",
    "- `Data Exploration:` Write a sentence or two highlighting the key factors in customer churn.\n",
    "- `Model Building and Evaluation:` Write a sentence or two describing how your model was trained, and the accuracy, precision, and recall rates.\n",
    "- `Key Insights:` Add two or three bullet points summarizing your findings.\n",
    "- `Recommendations:` Add two or three bullet points with the recommendations you would make based on this analysis."
   ]
  },
  {
   "cell_type": "markdown",
   "id": "95e50bd2",
   "metadata": {},
   "source": [
    "# Customer Churn Analysis Report\n",
    "\n",
    "## Introduction\n",
    "- \n",
    "\n",
    "\n",
    "## Data Exploration\n",
    "- \n",
    "\n",
    "\n",
    "## Model Building and Evaluation\n",
    "- \n",
    "\n",
    "\n",
    "## Key Insights\n",
    "- \n",
    "- \n",
    "- \n",
    "\n",
    "\n",
    "## Recommendations\n",
    "- \n",
    "- "
   ]
  },
  {
   "cell_type": "markdown",
   "id": "c2c96cd9",
   "metadata": {
    "deletable": false,
    "editable": false,
    "nbgrader": {
     "cell_type": "markdown",
     "checksum": "183b45f9e054bdd2e1628a31b253ebb3",
     "grade": false,
     "grade_id": "cell-4566ff80b0214cda",
     "locked": true,
     "schema_version": 3,
     "solution": false,
     "task": false
    }
   },
   "source": [
    "## Hints & Tips\n",
    "- Use the \"pandas cheat sheet\" for quick syntax reference on DataFrame operations.\n",
    "- Check the \"Scikit-Learn documentation\" for examples and explanations of classification models.\n",
    "- Use Matplotlib for creating informative visualizations. Reference various materials in Course 2.\n",
    "\n",
    "Good luck with your customer churn analysis!"
   ]
  }
 ],
 "metadata": {
  "kernelspec": {
   "display_name": "Python 3 (ipykernel)",
   "language": "python",
   "name": "python3"
  },
  "language_info": {
   "codemirror_mode": {
    "name": "ipython",
    "version": 3
   },
   "file_extension": ".py",
   "mimetype": "text/x-python",
   "name": "python",
   "nbconvert_exporter": "python",
   "pygments_lexer": "ipython3",
   "version": "3.10.6"
  }
 },
 "nbformat": 4,
 "nbformat_minor": 5
}
