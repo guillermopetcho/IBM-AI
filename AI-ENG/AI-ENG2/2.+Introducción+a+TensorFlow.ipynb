{
 "cells": [
  {
   "cell_type": "markdown",
   "metadata": {},
   "source": [
    "<h1><font color=\"#113D68\" size=6>Deep Learning con Python y Keras</font></h1>\n",
    "\n",
    "<h1><font color=\"#113D68\" size=5>Parte 1. Background</font></h1>\n",
    "\n",
    "<h1><font color=\"#113D68\" size=4>2. Introducción a TensorFlow</font></h1>\n",
    "\n",
    "<br><br>\n",
    "<div style=\"text-align: right\">\n",
    "<font color=\"#113D68\" size=3>Manuel Castillo Cara</font><br>\n",
    "\n",
    "</div>"
   ]
  },
  {
   "cell_type": "markdown",
   "metadata": {},
   "source": [
    "<div class=\"alert alert-block alert-info\">\n",
    "    \n",
    "<i class=\"fa fa-info-circle\" aria-hidden=\"true\"></i>\n",
    "More information about [Manuel Castillo-Cara](https://www.manuelcastillo.eu/)"
   ]
  },
  {
   "cell_type": "markdown",
   "metadata": {},
   "source": [
    "<div class=\"alert alert-block alert-info\">\n",
    "\n",
    "<i class=\"fa fa-info-circle\" aria-hidden=\"true\"></i>\n",
    "Puedes ver más cursos de Inteligencia Artificial, Machine Learning y Deep Learning en mi [página web](https://www.manuelcastillo.eu/udemy/)\n"
   ]
  },
  {
   "cell_type": "markdown",
   "metadata": {},
   "source": [
    "---\n",
    "\n",
    "<a id=\"indice\"></a>\n",
    "<h2><font color=\"#004D7F\" size=5>Índice</font></h2>\n",
    "\n",
    "* [0. Contexto](#section0)\n",
    "* [1. Introducción](#section1)\n",
    "* [2. Instalar TensorFlow](#section2)\n",
    "* [3. Flujo de datos](#section3)\n",
    "* [4. Ejemplo en TensorFlow](#section4)"
   ]
  },
  {
   "cell_type": "markdown",
   "metadata": {},
   "source": [
    "---\n",
    "<a id=\"section0\"></a>\n",
    "# <font color=\"#004D7F\" size=6> 0. Contexto</font>"
   ]
  },
  {
   "cell_type": "markdown",
   "metadata": {},
   "source": [
    "TensorFlow es una librería de Python para computación numérica rápida creada y lanzada por Google usada para crear modelos de Deep Learning. \n",
    "\n",
    "Después de completar esta lección, sabrá:\n",
    "* Conocer librería TensorFlow para Python.\n",
    "* Cómo definir, compilar y evaluar una expresión simbólica simple en TensorFlow."
   ]
  },
  {
   "cell_type": "markdown",
   "metadata": {},
   "source": [
    "---\n",
    "<div style=\"text-align: right\"> <font size=5> <a href=\"#indice\"><i class=\"fa fa-arrow-circle-up\" aria-hidden=\"true\" style=\"color:#004D7F\"></i></a></font></div>\n",
    "\n",
    "---"
   ]
  },
  {
   "cell_type": "markdown",
   "metadata": {},
   "source": [
    "<a id=\"section1\"></a>\n",
    "# <font color=\"#004D7F\" size=6>1. Introducción</font>"
   ]
  },
  {
   "cell_type": "markdown",
   "metadata": {},
   "source": [
    "Fue creado y mantenido por Google y lanzado bajo la licencia de código abierto Apache 2.0. \n",
    "\n",
    "TensorFlow se diseñó para su uso tanto en investigación y desarrollo como en sistemas de producción, entre ellos **RankBrain** en Google Search y el divertido proyecto **DeepDream**. \n",
    "\n",
    "Puede ejecutarse en sistemas de CPU única, GPU, así como dispositivos móviles y sistemas distribuidos a gran escala de cientos de máquinas."
   ]
  },
  {
   "cell_type": "markdown",
   "metadata": {},
   "source": [
    "<div class=\"alert alert-block alert-info\">\n",
    "    \n",
    "<i class=\"fa fa-info-circle\" aria-hidden=\"true\"></i>\n",
    "Más información sobre RankBrain en [Google Search](https://en.wikipedia.org/wiki/RankBrain)"
   ]
  },
  {
   "cell_type": "markdown",
   "metadata": {},
   "source": [
    "<div class=\"alert alert-block alert-info\">\n",
    "    \n",
    "<i class=\"fa fa-info-circle\" aria-hidden=\"true\"></i>\n",
    "Más información sobre proyecto [DeepDream](https://en.wikipedia.org/wiki/DeepDream)"
   ]
  },
  {
   "cell_type": "markdown",
   "metadata": {},
   "source": [
    "---\n",
    "<div style=\"text-align: right\"> <font size=5> <a href=\"#indice\"><i class=\"fa fa-arrow-circle-up\" aria-hidden=\"true\" style=\"color:#004D7F\"></i></a></font></div>\n",
    "\n",
    "---"
   ]
  },
  {
   "cell_type": "markdown",
   "metadata": {},
   "source": [
    "<a id=\"section2\"></a>\n",
    "# <font color=\"#004D7F\" size=6>2. Instalar TensorFlow</font>"
   ]
  },
  {
   "cell_type": "markdown",
   "metadata": {},
   "source": [
    "TensorFlow funciona con Python 2.7 y Python 3.6 y es relativamente sencillo instalar TensorFlow usando `pip`. "
   ]
  },
  {
   "cell_type": "code",
   "execution_count": 1,
   "metadata": {
    "scrolled": true
   },
   "outputs": [
    {
     "name": "stdout",
     "output_type": "stream",
     "text": [
      "Requirement already satisfied: tensorflow in /home/manwest/Documentos/Jupyter/enviroment/lib/python3.6/site-packages (2.1.0)\n",
      "Requirement already satisfied: protobuf>=3.8.0 in /home/manwest/Documentos/Jupyter/enviroment/lib/python3.6/site-packages (from tensorflow) (3.11.3)\n",
      "Requirement already satisfied: grpcio>=1.8.6 in /home/manwest/Documentos/Jupyter/enviroment/lib/python3.6/site-packages (from tensorflow) (1.28.1)\n",
      "Requirement already satisfied: six>=1.12.0 in /home/manwest/Documentos/Jupyter/enviroment/lib/python3.6/site-packages (from tensorflow) (1.13.0)\n",
      "Processing /home/manwest/.cache/pip/wheels/19/a7/b9/0740c7a3a7d1d348f04823339274b90de25fbcd217b2ee1fbe/gast-0.2.2-py3-none-any.whl\n",
      "Requirement already satisfied: keras-preprocessing>=1.1.0 in /home/manwest/Documentos/Jupyter/enviroment/lib/python3.6/site-packages (from tensorflow) (1.1.2)\n",
      "Collecting tensorboard<2.2.0,>=2.1.0\n",
      "  Using cached tensorboard-2.1.1-py3-none-any.whl (3.8 MB)\n",
      "Requirement already satisfied: google-pasta>=0.1.6 in /home/manwest/Documentos/Jupyter/enviroment/lib/python3.6/site-packages (from tensorflow) (0.2.0)\n",
      "Requirement already satisfied: opt-einsum>=2.3.2 in /home/manwest/Documentos/Jupyter/enviroment/lib/python3.6/site-packages (from tensorflow) (3.2.1)\n",
      "Requirement already satisfied: termcolor>=1.1.0 in /home/manwest/Documentos/Jupyter/enviroment/lib/python3.6/site-packages (from tensorflow) (1.1.0)\n",
      "Requirement already satisfied: astor>=0.6.0 in /home/manwest/Documentos/Jupyter/enviroment/lib/python3.6/site-packages (from tensorflow) (0.8.1)\n",
      "Collecting tensorflow-estimator<2.2.0,>=2.1.0rc0\n",
      "  Using cached tensorflow_estimator-2.1.0-py2.py3-none-any.whl (448 kB)\n",
      "Requirement already satisfied: wrapt>=1.11.1 in /home/manwest/Documentos/Jupyter/enviroment/lib/python3.6/site-packages (from tensorflow) (1.12.1)\n",
      "Requirement already satisfied: wheel>=0.26; python_version >= \"3\" in /home/manwest/Documentos/Jupyter/enviroment/lib/python3.6/site-packages (from tensorflow) (0.33.6)\n",
      "Requirement already satisfied: keras-applications>=1.0.8 in /home/manwest/Documentos/Jupyter/enviroment/lib/python3.6/site-packages (from tensorflow) (1.0.8)\n",
      "Requirement already satisfied: numpy<2.0,>=1.16.0 in /home/manwest/Documentos/Jupyter/enviroment/lib/python3.6/site-packages (from tensorflow) (1.18.0)\n",
      "Requirement already satisfied: scipy==1.4.1; python_version >= \"3\" in /home/manwest/Documentos/Jupyter/enviroment/lib/python3.6/site-packages (from tensorflow) (1.4.1)\n",
      "Requirement already satisfied: absl-py>=0.7.0 in /home/manwest/Documentos/Jupyter/enviroment/lib/python3.6/site-packages (from tensorflow) (0.9.0)\n",
      "Requirement already satisfied: setuptools in /home/manwest/Documentos/Jupyter/enviroment/lib/python3.6/site-packages (from protobuf>=3.8.0->tensorflow) (42.0.2)\n",
      "Requirement already satisfied: google-auth<2,>=1.6.3 in /home/manwest/Documentos/Jupyter/enviroment/lib/python3.6/site-packages (from tensorboard<2.2.0,>=2.1.0->tensorflow) (1.14.0)\n",
      "Requirement already satisfied: requests<3,>=2.21.0 in /home/manwest/Documentos/Jupyter/enviroment/lib/python3.6/site-packages (from tensorboard<2.2.0,>=2.1.0->tensorflow) (2.23.0)\n",
      "Requirement already satisfied: google-auth-oauthlib<0.5,>=0.4.1 in /home/manwest/Documentos/Jupyter/enviroment/lib/python3.6/site-packages (from tensorboard<2.2.0,>=2.1.0->tensorflow) (0.4.1)\n",
      "Requirement already satisfied: werkzeug>=0.11.15 in /home/manwest/Documentos/Jupyter/enviroment/lib/python3.6/site-packages (from tensorboard<2.2.0,>=2.1.0->tensorflow) (1.0.1)\n",
      "Requirement already satisfied: markdown>=2.6.8 in /home/manwest/Documentos/Jupyter/enviroment/lib/python3.6/site-packages (from tensorboard<2.2.0,>=2.1.0->tensorflow) (3.2.1)\n",
      "Requirement already satisfied: h5py in /home/manwest/Documentos/Jupyter/enviroment/lib/python3.6/site-packages (from keras-applications>=1.0.8->tensorflow) (2.10.0)\n",
      "Requirement already satisfied: rsa<4.1,>=3.1.4 in /home/manwest/Documentos/Jupyter/enviroment/lib/python3.6/site-packages (from google-auth<2,>=1.6.3->tensorboard<2.2.0,>=2.1.0->tensorflow) (4.0)\n",
      "Requirement already satisfied: pyasn1-modules>=0.2.1 in /home/manwest/Documentos/Jupyter/enviroment/lib/python3.6/site-packages (from google-auth<2,>=1.6.3->tensorboard<2.2.0,>=2.1.0->tensorflow) (0.2.8)\n",
      "Requirement already satisfied: cachetools<5.0,>=2.0.0 in /home/manwest/Documentos/Jupyter/enviroment/lib/python3.6/site-packages (from google-auth<2,>=1.6.3->tensorboard<2.2.0,>=2.1.0->tensorflow) (4.1.0)\n",
      "Requirement already satisfied: chardet<4,>=3.0.2 in /home/manwest/Documentos/Jupyter/enviroment/lib/python3.6/site-packages (from requests<3,>=2.21.0->tensorboard<2.2.0,>=2.1.0->tensorflow) (3.0.4)\n",
      "Requirement already satisfied: certifi>=2017.4.17 in /home/manwest/Documentos/Jupyter/enviroment/lib/python3.6/site-packages (from requests<3,>=2.21.0->tensorboard<2.2.0,>=2.1.0->tensorflow) (2020.4.5.1)\n",
      "Requirement already satisfied: idna<3,>=2.5 in /home/manwest/Documentos/Jupyter/enviroment/lib/python3.6/site-packages (from requests<3,>=2.21.0->tensorboard<2.2.0,>=2.1.0->tensorflow) (2.9)\n",
      "Requirement already satisfied: urllib3!=1.25.0,!=1.25.1,<1.26,>=1.21.1 in /home/manwest/Documentos/Jupyter/enviroment/lib/python3.6/site-packages (from requests<3,>=2.21.0->tensorboard<2.2.0,>=2.1.0->tensorflow) (1.25.9)\n",
      "Requirement already satisfied: requests-oauthlib>=0.7.0 in /home/manwest/Documentos/Jupyter/enviroment/lib/python3.6/site-packages (from google-auth-oauthlib<0.5,>=0.4.1->tensorboard<2.2.0,>=2.1.0->tensorflow) (1.3.0)\n",
      "Requirement already satisfied: pyasn1>=0.1.3 in /home/manwest/Documentos/Jupyter/enviroment/lib/python3.6/site-packages (from rsa<4.1,>=3.1.4->google-auth<2,>=1.6.3->tensorboard<2.2.0,>=2.1.0->tensorflow) (0.4.8)\n",
      "Requirement already satisfied: oauthlib>=3.0.0 in /home/manwest/Documentos/Jupyter/enviroment/lib/python3.6/site-packages (from requests-oauthlib>=0.7.0->google-auth-oauthlib<0.5,>=0.4.1->tensorboard<2.2.0,>=2.1.0->tensorflow) (3.1.0)\n",
      "Installing collected packages: gast, tensorboard, tensorflow-estimator\n",
      "  Attempting uninstall: gast\n",
      "    Found existing installation: gast 0.3.3\n",
      "    Uninstalling gast-0.3.3:\n",
      "      Successfully uninstalled gast-0.3.3\n",
      "  Attempting uninstall: tensorboard\n",
      "    Found existing installation: tensorboard 2.3.0\n",
      "    Uninstalling tensorboard-2.3.0:\n",
      "      Successfully uninstalled tensorboard-2.3.0\n",
      "  Attempting uninstall: tensorflow-estimator\n",
      "    Found existing installation: tensorflow-estimator 2.3.0\n",
      "    Uninstalling tensorflow-estimator-2.3.0:\n",
      "      Successfully uninstalled tensorflow-estimator-2.3.0\n",
      "\u001b[31mERROR: After October 2020 you may experience errors when installing or updating packages. This is because pip will change the way that it resolves dependency conflicts.\n",
      "\n",
      "We recommend you use --use-feature=2020-resolver to test your packages with the new resolver before it becomes the default.\n",
      "\n",
      "tensorflow-gpu 2.3.0 requires gast==0.3.3, but you'll have gast 0.2.2 which is incompatible.\n",
      "tensorflow-gpu 2.3.0 requires tensorboard<3,>=2.3.0, but you'll have tensorboard 2.1.1 which is incompatible.\n",
      "tensorflow-gpu 2.3.0 requires tensorflow-estimator<2.4.0,>=2.3.0, but you'll have tensorflow-estimator 2.1.0 which is incompatible.\u001b[0m\n",
      "Successfully installed gast-0.2.2 tensorboard-2.1.1 tensorflow-estimator-2.1.0\n"
     ]
    }
   ],
   "source": [
    "!pip install tensorflow"
   ]
  },
  {
   "cell_type": "code",
   "execution_count": 2,
   "metadata": {
    "scrolled": true
   },
   "outputs": [
    {
     "name": "stdout",
     "output_type": "stream",
     "text": [
      "Requirement already satisfied: tensorflow-gpu in /home/manwest/Documentos/Jupyter/enviroment/lib/python3.6/site-packages (2.3.0)\n",
      "Requirement already satisfied: absl-py>=0.7.0 in /home/manwest/Documentos/Jupyter/enviroment/lib/python3.6/site-packages (from tensorflow-gpu) (0.9.0)\n",
      "Collecting tensorflow-estimator<2.4.0,>=2.3.0\n",
      "  Using cached tensorflow_estimator-2.3.0-py2.py3-none-any.whl (459 kB)\n",
      "Requirement already satisfied: astunparse==1.6.3 in /home/manwest/Documentos/Jupyter/enviroment/lib/python3.6/site-packages (from tensorflow-gpu) (1.6.3)\n",
      "Requirement already satisfied: google-pasta>=0.1.8 in /home/manwest/Documentos/Jupyter/enviroment/lib/python3.6/site-packages (from tensorflow-gpu) (0.2.0)\n",
      "Requirement already satisfied: protobuf>=3.9.2 in /home/manwest/Documentos/Jupyter/enviroment/lib/python3.6/site-packages (from tensorflow-gpu) (3.11.3)\n",
      "Requirement already satisfied: opt-einsum>=2.3.2 in /home/manwest/Documentos/Jupyter/enviroment/lib/python3.6/site-packages (from tensorflow-gpu) (3.2.1)\n",
      "Collecting tensorboard<3,>=2.3.0\n",
      "  Using cached tensorboard-2.3.0-py3-none-any.whl (6.8 MB)\n",
      "Requirement already satisfied: h5py<2.11.0,>=2.10.0 in /home/manwest/Documentos/Jupyter/enviroment/lib/python3.6/site-packages (from tensorflow-gpu) (2.10.0)\n",
      "Requirement already satisfied: termcolor>=1.1.0 in /home/manwest/Documentos/Jupyter/enviroment/lib/python3.6/site-packages (from tensorflow-gpu) (1.1.0)\n",
      "Collecting gast==0.3.3\n",
      "  Using cached gast-0.3.3-py2.py3-none-any.whl (9.7 kB)\n",
      "Requirement already satisfied: wrapt>=1.11.1 in /home/manwest/Documentos/Jupyter/enviroment/lib/python3.6/site-packages (from tensorflow-gpu) (1.12.1)\n",
      "Requirement already satisfied: wheel>=0.26 in /home/manwest/Documentos/Jupyter/enviroment/lib/python3.6/site-packages (from tensorflow-gpu) (0.33.6)\n",
      "Requirement already satisfied: six>=1.12.0 in /home/manwest/Documentos/Jupyter/enviroment/lib/python3.6/site-packages (from tensorflow-gpu) (1.13.0)\n",
      "Requirement already satisfied: numpy<1.19.0,>=1.16.0 in /home/manwest/Documentos/Jupyter/enviroment/lib/python3.6/site-packages (from tensorflow-gpu) (1.18.0)\n",
      "Requirement already satisfied: scipy==1.4.1 in /home/manwest/Documentos/Jupyter/enviroment/lib/python3.6/site-packages (from tensorflow-gpu) (1.4.1)\n",
      "Requirement already satisfied: grpcio>=1.8.6 in /home/manwest/Documentos/Jupyter/enviroment/lib/python3.6/site-packages (from tensorflow-gpu) (1.28.1)\n",
      "Requirement already satisfied: keras-preprocessing<1.2,>=1.1.1 in /home/manwest/Documentos/Jupyter/enviroment/lib/python3.6/site-packages (from tensorflow-gpu) (1.1.2)\n",
      "Requirement already satisfied: setuptools in /home/manwest/Documentos/Jupyter/enviroment/lib/python3.6/site-packages (from protobuf>=3.9.2->tensorflow-gpu) (42.0.2)\n",
      "Requirement already satisfied: google-auth-oauthlib<0.5,>=0.4.1 in /home/manwest/Documentos/Jupyter/enviroment/lib/python3.6/site-packages (from tensorboard<3,>=2.3.0->tensorflow-gpu) (0.4.1)\n",
      "Requirement already satisfied: tensorboard-plugin-wit>=1.6.0 in /home/manwest/Documentos/Jupyter/enviroment/lib/python3.6/site-packages (from tensorboard<3,>=2.3.0->tensorflow-gpu) (1.7.0)\n",
      "Requirement already satisfied: werkzeug>=0.11.15 in /home/manwest/Documentos/Jupyter/enviroment/lib/python3.6/site-packages (from tensorboard<3,>=2.3.0->tensorflow-gpu) (1.0.1)\n",
      "Requirement already satisfied: requests<3,>=2.21.0 in /home/manwest/Documentos/Jupyter/enviroment/lib/python3.6/site-packages (from tensorboard<3,>=2.3.0->tensorflow-gpu) (2.23.0)\n",
      "Requirement already satisfied: google-auth<2,>=1.6.3 in /home/manwest/Documentos/Jupyter/enviroment/lib/python3.6/site-packages (from tensorboard<3,>=2.3.0->tensorflow-gpu) (1.14.0)\n",
      "Requirement already satisfied: markdown>=2.6.8 in /home/manwest/Documentos/Jupyter/enviroment/lib/python3.6/site-packages (from tensorboard<3,>=2.3.0->tensorflow-gpu) (3.2.1)\n",
      "Requirement already satisfied: requests-oauthlib>=0.7.0 in /home/manwest/Documentos/Jupyter/enviroment/lib/python3.6/site-packages (from google-auth-oauthlib<0.5,>=0.4.1->tensorboard<3,>=2.3.0->tensorflow-gpu) (1.3.0)\n",
      "Requirement already satisfied: chardet<4,>=3.0.2 in /home/manwest/Documentos/Jupyter/enviroment/lib/python3.6/site-packages (from requests<3,>=2.21.0->tensorboard<3,>=2.3.0->tensorflow-gpu) (3.0.4)\n",
      "Requirement already satisfied: idna<3,>=2.5 in /home/manwest/Documentos/Jupyter/enviroment/lib/python3.6/site-packages (from requests<3,>=2.21.0->tensorboard<3,>=2.3.0->tensorflow-gpu) (2.9)\n",
      "Requirement already satisfied: certifi>=2017.4.17 in /home/manwest/Documentos/Jupyter/enviroment/lib/python3.6/site-packages (from requests<3,>=2.21.0->tensorboard<3,>=2.3.0->tensorflow-gpu) (2020.4.5.1)\n",
      "Requirement already satisfied: urllib3!=1.25.0,!=1.25.1,<1.26,>=1.21.1 in /home/manwest/Documentos/Jupyter/enviroment/lib/python3.6/site-packages (from requests<3,>=2.21.0->tensorboard<3,>=2.3.0->tensorflow-gpu) (1.25.9)\n",
      "Requirement already satisfied: cachetools<5.0,>=2.0.0 in /home/manwest/Documentos/Jupyter/enviroment/lib/python3.6/site-packages (from google-auth<2,>=1.6.3->tensorboard<3,>=2.3.0->tensorflow-gpu) (4.1.0)\n",
      "Requirement already satisfied: rsa<4.1,>=3.1.4 in /home/manwest/Documentos/Jupyter/enviroment/lib/python3.6/site-packages (from google-auth<2,>=1.6.3->tensorboard<3,>=2.3.0->tensorflow-gpu) (4.0)\n",
      "Requirement already satisfied: pyasn1-modules>=0.2.1 in /home/manwest/Documentos/Jupyter/enviroment/lib/python3.6/site-packages (from google-auth<2,>=1.6.3->tensorboard<3,>=2.3.0->tensorflow-gpu) (0.2.8)\n",
      "Requirement already satisfied: oauthlib>=3.0.0 in /home/manwest/Documentos/Jupyter/enviroment/lib/python3.6/site-packages (from requests-oauthlib>=0.7.0->google-auth-oauthlib<0.5,>=0.4.1->tensorboard<3,>=2.3.0->tensorflow-gpu) (3.1.0)\n",
      "Requirement already satisfied: pyasn1>=0.1.3 in /home/manwest/Documentos/Jupyter/enviroment/lib/python3.6/site-packages (from rsa<4.1,>=3.1.4->google-auth<2,>=1.6.3->tensorboard<3,>=2.3.0->tensorflow-gpu) (0.4.8)\n",
      "Installing collected packages: tensorflow-estimator, tensorboard, gast\n",
      "  Attempting uninstall: tensorflow-estimator\n",
      "    Found existing installation: tensorflow-estimator 2.1.0\n",
      "    Uninstalling tensorflow-estimator-2.1.0:\n",
      "      Successfully uninstalled tensorflow-estimator-2.1.0\n",
      "  Attempting uninstall: tensorboard\n",
      "    Found existing installation: tensorboard 2.1.1\n",
      "    Uninstalling tensorboard-2.1.1:\n",
      "      Successfully uninstalled tensorboard-2.1.1\n",
      "  Attempting uninstall: gast\n",
      "    Found existing installation: gast 0.2.2\n",
      "    Uninstalling gast-0.2.2:\n",
      "      Successfully uninstalled gast-0.2.2\n",
      "\u001b[31mERROR: After October 2020 you may experience errors when installing or updating packages. This is because pip will change the way that it resolves dependency conflicts.\n",
      "\n",
      "We recommend you use --use-feature=2020-resolver to test your packages with the new resolver before it becomes the default.\n",
      "\n",
      "tensorflow 2.1.0 requires gast==0.2.2, but you'll have gast 0.3.3 which is incompatible.\n",
      "tensorflow 2.1.0 requires tensorboard<2.2.0,>=2.1.0, but you'll have tensorboard 2.3.0 which is incompatible.\n",
      "tensorflow 2.1.0 requires tensorflow-estimator<2.2.0,>=2.1.0rc0, but you'll have tensorflow-estimator 2.3.0 which is incompatible.\u001b[0m\n",
      "Successfully installed gast-0.3.3 tensorboard-2.3.0 tensorflow-estimator-2.3.0\n"
     ]
    }
   ],
   "source": [
    "!pip install tensorflow-gpu"
   ]
  },
  {
   "cell_type": "markdown",
   "metadata": {},
   "source": [
    "Ver la versión"
   ]
  },
  {
   "cell_type": "code",
   "execution_count": 4,
   "metadata": {},
   "outputs": [
    {
     "name": "stdout",
     "output_type": "stream",
     "text": [
      "tensorflow: 2.3.0\n"
     ]
    }
   ],
   "source": [
    "import tensorflow as tf\n",
    "print('tensorflow: %s' % tf.__version__)"
   ]
  },
  {
   "cell_type": "markdown",
   "metadata": {},
   "source": [
    "<div class=\"alert alert-block alert-info\">\n",
    "    \n",
    "<i class=\"fa fa-info-circle\" aria-hidden=\"true\"></i>\n",
    "Más información sobre proyecto [TensorFlow](https://www.tensorflow.org)"
   ]
  },
  {
   "cell_type": "markdown",
   "metadata": {},
   "source": [
    "---\n",
    "<div style=\"text-align: right\"> <font size=5> <a href=\"#indice\"><i class=\"fa fa-arrow-circle-up\" aria-hidden=\"true\" style=\"color:#004D7F\"></i></a></font></div>\n",
    "\n",
    "---"
   ]
  },
  {
   "cell_type": "markdown",
   "metadata": {},
   "source": [
    "<a id=\"section3\"></a>\n",
    "# <font color=\"#004D7F\" size=6>3. Flujo de datos</font>"
   ]
  },
  {
   "cell_type": "markdown",
   "metadata": {},
   "source": [
    "La computación se describe en términos de flujo de datos y operaciones en la estructura de un grafo dirigido.\n",
    "* **Nodos:** los nodos realizan cálculos y tienen cero o más entradas y salidas. \n",
    "* **Bordes:** el grafo define el flujo de datos, bifurcaciones, bucles y actualizaciones al estado. \n",
    "* **Operación:** una operación es un cálculo abstracto con nombre que puede tomar atributos de entrada y producir atributos de salida. \n",
    "\n",
    "<img src=\"imgs/flujoTensorFlow.png\" width=\"200\" height=\"200\" />"
   ]
  },
  {
   "cell_type": "markdown",
   "metadata": {},
   "source": [
    "---\n",
    "<div style=\"text-align: right\"> <font size=5> <a href=\"#indice\"><i class=\"fa fa-arrow-circle-up\" aria-hidden=\"true\" style=\"color:#004D7F\"></i></a></font></div>\n",
    "\n",
    "---"
   ]
  },
  {
   "cell_type": "markdown",
   "metadata": {},
   "source": [
    "<a id=\"section4\"></a>\n",
    "# <font color=\"#004D7F\" size=6>4. Ejemplo en TensorFlow</font>"
   ]
  },
  {
   "cell_type": "markdown",
   "metadata": {},
   "source": [
    "En este ejemplo definimos dos variables simbólicas de coma flotante $a$ y $b$. Definimos una expresión que usa estas variables $(c = a + b)$. Luego, compilamos esta expresión simbólica en una función usando TensorFlow que podemos usar más adelante. \n",
    "\n",
    "Finalmente, usamos nuestra expresión compilada insertando algunos valores reales y realizando el cálculo usando código TensorFlow compilado."
   ]
  },
  {
   "cell_type": "markdown",
   "metadata": {},
   "source": [
    "TensorFlow V2"
   ]
  },
  {
   "cell_type": "code",
   "execution_count": 6,
   "metadata": {
    "scrolled": true
   },
   "outputs": [
    {
     "name": "stdout",
     "output_type": "stream",
     "text": [
      "4\n",
      "tf.Tensor(4.0, shape=(), dtype=float32)\n"
     ]
    }
   ],
   "source": [
    "a = tf.constant(1.5)\n",
    "b = tf.constant(2.5)\n",
    "\n",
    "c = a + b\n",
    "\n",
    "tf.print(c)\n",
    "print(c)"
   ]
  },
  {
   "cell_type": "markdown",
   "metadata": {},
   "source": [
    "TensorFlow V1"
   ]
  },
  {
   "cell_type": "code",
   "execution_count": 7,
   "metadata": {},
   "outputs": [
    {
     "name": "stdout",
     "output_type": "stream",
     "text": [
      "4.0\n"
     ]
    }
   ],
   "source": [
    "tf.compat.v1.disable_eager_execution()\n",
    "\n",
    "a = tf.compat.v1.placeholder(tf.float32)\n",
    "b = tf.compat.v1.placeholder(tf.float32)\n",
    "\n",
    "add = tf.add(a, b)\n",
    "\n",
    "sess = tf.compat.v1.Session()\n",
    "\n",
    "binding = {a: 1.5, b: 2.5}\n",
    "\n",
    "c = sess.run(add, feed_dict= binding)\n",
    "\n",
    "print(c)"
   ]
  },
  {
   "cell_type": "markdown",
   "metadata": {},
   "source": [
    "<div style=\"text-align: right\"> <font size=5> <a href=\"#indice\"><i class=\"fa fa-arrow-circle-up\" aria-hidden=\"true\" style=\"color:#004D7F\"></i></a></font></div>\n",
    "\n",
    "---\n",
    "\n",
    "<div style=\"text-align: right\"> <font size=6><i class=\"fa fa-coffee\" aria-hidden=\"true\" style=\"color:#004D7F\"></i> </font></div>"
   ]
  }
 ],
 "metadata": {
  "kernelspec": {
   "display_name": "Python 3",
   "language": "python",
   "name": "python3"
  },
  "language_info": {
   "codemirror_mode": {
    "name": "ipython",
    "version": 3
   },
   "file_extension": ".py",
   "mimetype": "text/x-python",
   "name": "python",
   "nbconvert_exporter": "python",
   "pygments_lexer": "ipython3",
   "version": "3.6.9"
  }
 },
 "nbformat": 4,
 "nbformat_minor": 2
}
